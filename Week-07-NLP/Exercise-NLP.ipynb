{
 "cells": [
  {
   "cell_type": "markdown",
   "metadata": {},
   "source": [
    "# Exercise with Natural Language Processing\n",
    "\n",
    "For todays exersice we will be doing two things.  The first is to build the same model with the same data that we did in the lecture, the second will be to build a new model with new data. \n",
    "\n",
    "## PART 1: \n",
    "- 20 Newsgroups Corpus\n",
    "\n",
    "\n",
    "## PART 2:\n",
    "- Republican vs Democrat Tweet Classifier"
   ]
  },
  {
   "cell_type": "code",
   "execution_count": 1,
   "metadata": {},
   "outputs": [
    {
     "name": "stderr",
     "output_type": "stream",
     "text": [
      "[nltk_data] Downloading package stopwords to\n",
      "[nltk_data]     /Users/aleksandrageorgievska/nltk_data...\n",
      "[nltk_data]   Package stopwords is already up-to-date!\n",
      "[nltk_data] Downloading package punkt to\n",
      "[nltk_data]     /Users/aleksandrageorgievska/nltk_data...\n",
      "[nltk_data]   Package punkt is already up-to-date!\n",
      "[nltk_data] Downloading package wordnet to\n",
      "[nltk_data]     /Users/aleksandrageorgievska/nltk_data...\n",
      "[nltk_data]   Package wordnet is already up-to-date!\n"
     ]
    }
   ],
   "source": [
    "# Import pandas for data handling\n",
    "import pandas as pd\n",
    "\n",
    "# NLTK is our Natural-Language-Took-Kit\n",
    "import nltk\n",
    "from nltk.corpus import stopwords\n",
    "from nltk import word_tokenize\n",
    "from nltk.stem import PorterStemmer\n",
    "from nltk.stem import WordNetLemmatizer\n",
    "from nltk.corpus import wordnet\n",
    "\n",
    "# Libraries for helping us with strings\n",
    "import string\n",
    "# Regular Expression Library\n",
    "import re\n",
    "\n",
    "# Import our text vectorizers\n",
    "from sklearn.feature_extraction.text import CountVectorizer\n",
    "from sklearn.feature_extraction.text import TfidfVectorizer\n",
    "\n",
    "\n",
    "# Import our classifiers\n",
    "from sklearn.naive_bayes import MultinomialNB\n",
    "from sklearn.ensemble import RandomForestClassifier\n",
    "\n",
    "\n",
    "# Import some ML helper function\n",
    "from sklearn.model_selection import train_test_split\n",
    "from sklearn.metrics import plot_confusion_matrix\n",
    "from sklearn.metrics import classification_report\n",
    "\n",
    "\n",
    "# Import our metrics to evaluate our model\n",
    "from sklearn import metrics\n",
    "from sklearn.metrics import classification_report\n",
    "\n",
    "\n",
    "# Library for plotting\n",
    "import matplotlib.pyplot as plt\n",
    "import seaborn as sns\n",
    "\n",
    "# You may need to download these from nltk\n",
    "nltk.download('stopwords')\n",
    "nltk.download('punkt')\n",
    "nltk.download('wordnet')\n",
    "stopwords = stopwords.words('english')"
   ]
  },
  {
   "cell_type": "markdown",
   "metadata": {},
   "source": [
    "## Load and display data.\n",
    "1. Load the 20-newsgroups.csv data into a dataframe.\n",
    "1. Print the shape\n",
    "1. Inspect / remove nulls and duplicates\n",
    "1. Find class balances, print out how many of each topic_category there are."
   ]
  },
  {
   "cell_type": "code",
   "execution_count": 2,
   "metadata": {},
   "outputs": [
    {
     "name": "stdout",
     "output_type": "stream",
     "text": [
      "(11314, 4)\n"
     ]
    },
    {
     "data": {
      "text/html": [
       "<div>\n",
       "<style scoped>\n",
       "    .dataframe tbody tr th:only-of-type {\n",
       "        vertical-align: middle;\n",
       "    }\n",
       "\n",
       "    .dataframe tbody tr th {\n",
       "        vertical-align: top;\n",
       "    }\n",
       "\n",
       "    .dataframe thead th {\n",
       "        text-align: right;\n",
       "    }\n",
       "</style>\n",
       "<table border=\"1\" class=\"dataframe\">\n",
       "  <thead>\n",
       "    <tr style=\"text-align: right;\">\n",
       "      <th></th>\n",
       "      <th>id</th>\n",
       "      <th>message</th>\n",
       "      <th>topic</th>\n",
       "      <th>topic_category</th>\n",
       "    </tr>\n",
       "  </thead>\n",
       "  <tbody>\n",
       "    <tr>\n",
       "      <th>0</th>\n",
       "      <td>0</td>\n",
       "      <td>From: lerxst@wam.umd.edu (where's my thing)\\r\\...</td>\n",
       "      <td>7</td>\n",
       "      <td>rec.autos</td>\n",
       "    </tr>\n",
       "    <tr>\n",
       "      <th>1</th>\n",
       "      <td>1</td>\n",
       "      <td>From: guykuo@carson.u.washington.edu (Guy Kuo)...</td>\n",
       "      <td>4</td>\n",
       "      <td>comp.sys.mac.hardware</td>\n",
       "    </tr>\n",
       "    <tr>\n",
       "      <th>2</th>\n",
       "      <td>2</td>\n",
       "      <td>From: twillis@ec.ecn.purdue.edu (Thomas E Will...</td>\n",
       "      <td>4</td>\n",
       "      <td>comp.sys.mac.hardware</td>\n",
       "    </tr>\n",
       "    <tr>\n",
       "      <th>3</th>\n",
       "      <td>3</td>\n",
       "      <td>From: jgreen@amber (Joe Green)\\r\\nSubject: Re:...</td>\n",
       "      <td>1</td>\n",
       "      <td>comp.graphics</td>\n",
       "    </tr>\n",
       "    <tr>\n",
       "      <th>4</th>\n",
       "      <td>4</td>\n",
       "      <td>From: jcm@head-cfa.harvard.edu (Jonathan McDow...</td>\n",
       "      <td>14</td>\n",
       "      <td>sci.space</td>\n",
       "    </tr>\n",
       "  </tbody>\n",
       "</table>\n",
       "</div>"
      ],
      "text/plain": [
       "   id                                            message  topic  \\\n",
       "0   0  From: lerxst@wam.umd.edu (where's my thing)\\r\\...      7   \n",
       "1   1  From: guykuo@carson.u.washington.edu (Guy Kuo)...      4   \n",
       "2   2  From: twillis@ec.ecn.purdue.edu (Thomas E Will...      4   \n",
       "3   3  From: jgreen@amber (Joe Green)\\r\\nSubject: Re:...      1   \n",
       "4   4  From: jcm@head-cfa.harvard.edu (Jonathan McDow...     14   \n",
       "\n",
       "          topic_category  \n",
       "0              rec.autos  \n",
       "1  comp.sys.mac.hardware  \n",
       "2  comp.sys.mac.hardware  \n",
       "3          comp.graphics  \n",
       "4              sci.space  "
      ]
     },
     "execution_count": 2,
     "metadata": {},
     "output_type": "execute_result"
    }
   ],
   "source": [
    "# 1. Load the 20-newsgroups.csv data into a dataframe.\n",
    "# 2. Print the shape\n",
    "\n",
    "df = pd.read_csv('data/20-newsgroups.csv')\n",
    "print(df.shape)\n",
    "df.head()"
   ]
  },
  {
   "cell_type": "code",
   "execution_count": 3,
   "metadata": {},
   "outputs": [
    {
     "data": {
      "text/plain": [
       "0"
      ]
     },
     "execution_count": 3,
     "metadata": {},
     "output_type": "execute_result"
    }
   ],
   "source": [
    "# 3. Inspect / remove nulls and duplicates\n",
    "df.isnull().sum().sum()"
   ]
  },
  {
   "cell_type": "code",
   "execution_count": 4,
   "metadata": {},
   "outputs": [
    {
     "data": {
      "text/plain": [
       "0"
      ]
     },
     "execution_count": 4,
     "metadata": {},
     "output_type": "execute_result"
    }
   ],
   "source": [
    "df.duplicated().sum()"
   ]
  },
  {
   "cell_type": "code",
   "execution_count": 5,
   "metadata": {},
   "outputs": [
    {
     "data": {
      "text/plain": [
       "rec.sport.hockey            600\n",
       "soc.religion.christian      599\n",
       "rec.motorcycles             598\n",
       "rec.sport.baseball          597\n",
       "sci.crypt                   595\n",
       "sci.med                     594\n",
       "rec.autos                   594\n",
       "sci.space                   593\n",
       "comp.windows.x              593\n",
       "comp.os.ms-windows.misc     591\n",
       "sci.electronics             591\n",
       "comp.sys.ibm.pc.hardware    590\n",
       "misc.forsale                585\n",
       "comp.graphics               584\n",
       "comp.sys.mac.hardware       578\n",
       "talk.politics.mideast       564\n",
       "talk.politics.guns          546\n",
       "alt.atheism                 480\n",
       "talk.politics.misc          465\n",
       "talk.religion.misc          377\n",
       "Name: topic_category, dtype: int64"
      ]
     },
     "execution_count": 5,
     "metadata": {},
     "output_type": "execute_result"
    }
   ],
   "source": [
    "# 4. Find class balances, print out how many of each topic_category there are.\n",
    "df.topic_category.value_counts()"
   ]
  },
  {
   "cell_type": "markdown",
   "metadata": {},
   "source": [
    "# Text Pre-Processing \n",
    "(aka Feature engineering)\n",
    "1. Make a function that makes all text lowercase.\n",
    "    * Do a sanity check by feeding in a test sentence into the function. \n",
    "    \n",
    "    \n",
    "2. Make a function that removes all punctuation. \n",
    "    * Do a sanity check by feeding in a test sentence into the function. \n",
    "    \n",
    "    \n",
    "3. Make a function that removes all stopwords.\n",
    "    * Do a sanity check by feeding in a test sentence into the function. \n",
    "    \n",
    "    \n",
    "4. EXTRA CREDIT (This step only): Make a function that stemms all words. \n",
    "\n",
    "\n",
    "5. Mandatory: Make a pipeline function that applys all the text processing functions you just built.\n",
    "    * Do a sanity check by feeding in a test sentence into the pipeline. \n",
    "    \n",
    "    \n",
    "    \n",
    "6. Mandatory: Use `df['message_clean'] = df[column].apply(???)` and apply the text pipeline to your text data column. "
   ]
  },
  {
   "cell_type": "code",
   "execution_count": 6,
   "metadata": {},
   "outputs": [
    {
     "data": {
      "text/plain": [
       "'this is a sentence with lots of caps.'"
      ]
     },
     "execution_count": 6,
     "metadata": {},
     "output_type": "execute_result"
    }
   ],
   "source": [
    "# 1. Make a function that makes all text lowercase.\n",
    "\n",
    "test_string = 'This is A SENTENCE with LOTS OF CAPS.'\n",
    "\n",
    "def make_lowercase(test_string):\n",
    "    return test_string.lower()\n",
    "\n",
    "make_lowercase(test_string)"
   ]
  },
  {
   "cell_type": "code",
   "execution_count": 7,
   "metadata": {},
   "outputs": [
    {
     "data": {
      "text/plain": [
       "'This is a sentence 50 With lots of punctuation  other things'"
      ]
     },
     "execution_count": 7,
     "metadata": {},
     "output_type": "execute_result"
    }
   ],
   "source": [
    "# 2. Make a function that removes all punctuation. \n",
    "\n",
    "\n",
    "test_string = 'This is a sentence! 50 With lots of punctuation??? & other #things.'\n",
    "\n",
    "def remove_punc(test_string):\n",
    "    test_string = re.sub(r'[^\\w\\s]', '', test_string)\n",
    "    return test_string\n",
    "\n",
    "remove_punc(test_string)"
   ]
  },
  {
   "cell_type": "code",
   "execution_count": 8,
   "metadata": {},
   "outputs": [
    {
     "data": {
      "text/plain": [
       "'This sentence ! With different stopwords added .'"
      ]
     },
     "execution_count": 8,
     "metadata": {},
     "output_type": "execute_result"
    }
   ],
   "source": [
    "# 3. Make a function that removes all stopwords.\n",
    "\n",
    "test_string = 'This is a sentence! With some different stopwords i have added in here.'\n",
    "\n",
    "def remove_stopwords(test_string):\n",
    "    # Break the sentence down into a list of words\n",
    "    words = word_tokenize(test_string)\n",
    "    \n",
    "    # Make a list to append valid words into\n",
    "    valid_words = []\n",
    "    \n",
    "    # Loop through all the words\n",
    "    for word in words:\n",
    "        \n",
    "        # Check if word is not in stopwords. Stopwords was imported from nltk.corpus\n",
    "        if word not in stopwords:\n",
    "            \n",
    "            # If word not in stopwords, append to our valid_words\n",
    "            valid_words.append(word)\n",
    "\n",
    "    # Join the list of words together into a string\n",
    "    a_string = ' '.join(valid_words)\n",
    "\n",
    "    return a_string\n",
    "            \n",
    "remove_stopwords(test_string)"
   ]
  },
  {
   "cell_type": "code",
   "execution_count": 9,
   "metadata": {},
   "outputs": [
    {
     "data": {
      "text/plain": [
       "'I play and start play with player and we all love to play with play'"
      ]
     },
     "execution_count": 9,
     "metadata": {},
     "output_type": "execute_result"
    }
   ],
   "source": [
    "# 4. EXTRA CREDIT: Make a function that stemms all words. \n",
    "\n",
    "test_string = 'I played and started playing with players and we all love to play with plays'\n",
    "\n",
    "# Break words into their stem words\n",
    "\n",
    "def stem_words(a_string):\n",
    "    # Initalize our Stemmer\n",
    "    porter = PorterStemmer()\n",
    "    \n",
    "    # Break the sentence down into a list of words\n",
    "    words = word_tokenize(a_string)\n",
    "    \n",
    "    # Make a list to append valid words into\n",
    "    valid_words = []\n",
    "\n",
    "    # Loop through all the words\n",
    "    for word in words:\n",
    "        # Stem the word\n",
    "        stemmed_word = porter.stem(word) #from nltk.stem import PorterStemmer\n",
    "        \n",
    "        # Append stemmed word to our valid_words\n",
    "        valid_words.append(stemmed_word)\n",
    "        \n",
    "    # Join the list of words together into a string\n",
    "    a_string = ' '.join(valid_words)\n",
    "\n",
    "    return a_string \n",
    "\n",
    "\n",
    "stem_words(test_string)"
   ]
  },
  {
   "cell_type": "code",
   "execution_count": 10,
   "metadata": {},
   "outputs": [
    {
     "data": {
      "text/plain": [
       "'play start play player love play play'"
      ]
     },
     "execution_count": 10,
     "metadata": {},
     "output_type": "execute_result"
    }
   ],
   "source": [
    "# 5. MANDATORY: Make a pipeline function that applys all the text processing functions you just built.\n",
    "\n",
    "test_string = 'I played and started playing with players and we all love to play with plays'\n",
    "\n",
    "def text_processing_pipeline(a_string):\n",
    "    a_string = make_lowercase(a_string)\n",
    "    a_string = remove_punc(a_string)\n",
    "    a_string = remove_stopwords(a_string)\n",
    "    a_string = stem_words(a_string)\n",
    "    return a_string\n",
    "\n",
    "text_processing_pipeline(test_string)"
   ]
  },
  {
   "cell_type": "code",
   "execution_count": 11,
   "metadata": {},
   "outputs": [
    {
     "name": "stdout",
     "output_type": "stream",
     "text": [
      "ORIGINAL TEXT: From: lerxst@wam.umd.edu (where's my thing)\r\n",
      "Subject: WHAT car is this!?\r\n",
      "Nntp-Posting-Host: rac3.wam.umd.edu\r\n",
      "Organization: University of Maryland, College Park\r\n",
      "Lines: 15\r\n",
      "\r\n",
      " I was wondering if anyone out there could enlighten me on this car I saw\r\n",
      "the other day. It was a 2-door sports car, looked to be from the late 60s/\r\n",
      "early 70s. It was called a Bricklin. The doors were really small. In addition,\r\n",
      "the front bumper was separate from the rest of the body. This is \r\n",
      "all I know. If anyone can tellme a model name, engine specs, years\r\n",
      "of production, where this car is made, history, or whatever info you\r\n",
      "have on this funky looking car, please e-mail.\r\n",
      "\r\n",
      "Thanks,\r\n",
      "- IL\r\n",
      "   ---- brought to you by your neighborhood Lerxst ----\r\n",
      "\r\n",
      "\r\n",
      "\r\n",
      "\r\n",
      "\n",
      "CLEANDED TEXT: lerxstwamumdedu where thing subject car nntppostinghost rac3wamumdedu organ univers maryland colleg park line 15 wonder anyon could enlighten car saw day 2door sport car look late 60 earli 70 call bricklin door realli small addit front bumper separ rest bodi know anyon tellm model name engin spec year product car made histori whatev info funki look car pleas email thank il brought neighborhood lerxst\n"
     ]
    }
   ],
   "source": [
    "# 6. Mandatory: Use `df[column].apply(???)` and apply the text pipeline to your text data column. \n",
    "df['message_clean'] = df['message'].apply(text_processing_pipeline)\n",
    "\n",
    "print(\"ORIGINAL TEXT:\", df['message'][0])\n",
    "print(\"CLEANDED TEXT:\", df['message_clean'][0])"
   ]
  },
  {
   "cell_type": "markdown",
   "metadata": {},
   "source": [
    "# Text Vectorization\n",
    "\n",
    "1. Define your `X` and `y` data. \n",
    "\n",
    "\n",
    "2. Initialize a vectorizer (you can use TFIDF or BOW, it is your choice).\n",
    "    * Do you want to use n-grams..?\n",
    "\n",
    "\n",
    "3. Fit your vectorizer using your X data.\n",
    "    * Remember, this process happens IN PLACE.\n",
    "\n",
    "\n",
    "4. Transform your X data using your fitted vectorizer. \n",
    "    * `X = vectorizer.???`\n",
    "\n",
    "\n",
    "\n",
    "5. Print the shape of your X.  How many features (aka columns) do you have?"
   ]
  },
  {
   "cell_type": "code",
   "execution_count": 12,
   "metadata": {},
   "outputs": [],
   "source": [
    "# 1. Define your `X` and `y` data. \n",
    "\n",
    "X = df['message_clean'].values\n",
    "\n",
    "y = df['topic_category'].values"
   ]
  },
  {
   "cell_type": "markdown",
   "metadata": {},
   "source": [
    "# Split your data into Training and Testing data. "
   ]
  },
  {
   "cell_type": "code",
   "execution_count": 13,
   "metadata": {},
   "outputs": [],
   "source": [
    "# Split our data into testing and training like always. \n",
    "X_train, X_test, y_train, y_test = train_test_split(\n",
    "    X, y, test_size=0.2, random_state=42)\n",
    "\n",
    "\n",
    "# Save the raw text for later just incase\n",
    "X_train_text = X_train\n",
    "X_test_text = X_test"
   ]
  },
  {
   "cell_type": "code",
   "execution_count": 14,
   "metadata": {},
   "outputs": [
    {
     "name": "stdout",
     "output_type": "stream",
     "text": [
      "(9051, 105630) <class 'numpy.ndarray'>\n"
     ]
    }
   ],
   "source": [
    "# 2. Initialize a vectorizer (you can use TFIDF or BOW, it is your choice).\n",
    "\n",
    "#from sklearn.feature_extraction.text import TfidfVectorizer\n",
    "\n",
    "# Initialize our vectorizer\n",
    "vectorizer = TfidfVectorizer()\n",
    "\n",
    "# 3. Fit your vectorizer using your X data\n",
    "# This makes your vocab matrix\n",
    "vectorizer.fit(X_train)\n",
    "\n",
    "# 4. Transform your X data using your fitted vectorizer. \n",
    "# This transforms your documents into vectors.\n",
    "X_train = vectorizer.transform(X_train)\n",
    "X_test = vectorizer.transform(X_test)\n",
    "\n",
    "# 5. Print the shape of your X.  How many features (aka columns) do you have? -> 105630 columns! \n",
    "print(X_train.shape, type(X))"
   ]
  },
  {
   "cell_type": "code",
   "execution_count": 15,
   "metadata": {},
   "outputs": [
    {
     "name": "stdout",
     "output_type": "stream",
     "text": [
      "105630 105630\n"
     ]
    },
    {
     "data": {
      "text/html": [
       "<div>\n",
       "<style scoped>\n",
       "    .dataframe tbody tr th:only-of-type {\n",
       "        vertical-align: middle;\n",
       "    }\n",
       "\n",
       "    .dataframe tbody tr th {\n",
       "        vertical-align: top;\n",
       "    }\n",
       "\n",
       "    .dataframe thead th {\n",
       "        text-align: right;\n",
       "    }\n",
       "</style>\n",
       "<table border=\"1\" class=\"dataframe\">\n",
       "  <thead>\n",
       "    <tr style=\"text-align: right;\">\n",
       "      <th></th>\n",
       "      <th>feature</th>\n",
       "      <th>idf</th>\n",
       "    </tr>\n",
       "  </thead>\n",
       "  <tbody>\n",
       "    <tr>\n",
       "      <th>52815</th>\n",
       "      <td>knowladg</td>\n",
       "      <td>9.417594</td>\n",
       "    </tr>\n",
       "    <tr>\n",
       "      <th>62336</th>\n",
       "      <td>mbq72pl5u7tl2pqs7r_35iiquak1doqxqiqyi</td>\n",
       "      <td>9.417594</td>\n",
       "    </tr>\n",
       "    <tr>\n",
       "      <th>62354</th>\n",
       "      <td>mbrqmdq9i76igi086kopgg4x6zj5aoke2wplm</td>\n",
       "      <td>9.417594</td>\n",
       "    </tr>\n",
       "    <tr>\n",
       "      <th>62353</th>\n",
       "      <td>mbrllfnah</td>\n",
       "      <td>9.417594</td>\n",
       "    </tr>\n",
       "    <tr>\n",
       "      <th>62352</th>\n",
       "      <td>mbrian</td>\n",
       "      <td>9.417594</td>\n",
       "    </tr>\n",
       "    <tr>\n",
       "      <th>...</th>\n",
       "      <td>...</td>\n",
       "      <td>...</td>\n",
       "    </tr>\n",
       "    <tr>\n",
       "      <th>21037</th>\n",
       "      <td>articl</td>\n",
       "      <td>1.822709</td>\n",
       "    </tr>\n",
       "    <tr>\n",
       "      <th>102893</th>\n",
       "      <td>write</td>\n",
       "      <td>1.616816</td>\n",
       "    </tr>\n",
       "    <tr>\n",
       "      <th>76741</th>\n",
       "      <td>organ</td>\n",
       "      <td>1.038399</td>\n",
       "    </tr>\n",
       "    <tr>\n",
       "      <th>54897</th>\n",
       "      <td>line</td>\n",
       "      <td>1.003098</td>\n",
       "    </tr>\n",
       "    <tr>\n",
       "      <th>92647</th>\n",
       "      <td>subject</td>\n",
       "      <td>1.000000</td>\n",
       "    </tr>\n",
       "  </tbody>\n",
       "</table>\n",
       "<p>105630 rows × 2 columns</p>\n",
       "</div>"
      ],
      "text/plain": [
       "                                      feature       idf\n",
       "52815                                knowladg  9.417594\n",
       "62336   mbq72pl5u7tl2pqs7r_35iiquak1doqxqiqyi  9.417594\n",
       "62354   mbrqmdq9i76igi086kopgg4x6zj5aoke2wplm  9.417594\n",
       "62353                               mbrllfnah  9.417594\n",
       "62352                                  mbrian  9.417594\n",
       "...                                       ...       ...\n",
       "21037                                  articl  1.822709\n",
       "102893                                  write  1.616816\n",
       "76741                                   organ  1.038399\n",
       "54897                                    line  1.003098\n",
       "92647                                 subject  1.000000\n",
       "\n",
       "[105630 rows x 2 columns]"
      ]
     },
     "execution_count": 15,
     "metadata": {},
     "output_type": "execute_result"
    }
   ],
   "source": [
    "features = vectorizer.get_feature_names()\n",
    "weights = vectorizer.idf_\n",
    "\n",
    "print(len(features), len(weights))\n",
    "\n",
    "df_idf = pd.DataFrame.from_dict( {'feature': features, 'idf': weights})\n",
    "\n",
    "df_idf = df_idf.sort_values(by='idf', ascending=False)\n",
    "\n",
    "df_idf"
   ]
  },
  {
   "cell_type": "code",
   "execution_count": 16,
   "metadata": {},
   "outputs": [
    {
     "data": {
      "text/plain": [
       "scipy.sparse.csr.csr_matrix"
      ]
     },
     "execution_count": 16,
     "metadata": {},
     "output_type": "execute_result"
    }
   ],
   "source": [
    "type(X_train[0])"
   ]
  },
  {
   "cell_type": "markdown",
   "metadata": {},
   "source": [
    "___\n",
    "# Build and Train Model\n",
    "Use Multinomial Naive Bayes to classify these documents. \n",
    "\n",
    "1. Initalize an empty model. \n",
    "2. Fit the model with our training data.\n",
    "\n",
    "\n",
    "Experiment with different alphas.  Use the alpha gives you the best result.\n",
    "\n",
    "EXTRA CREDIT:  Use grid search to programmatically do this for you. "
   ]
  },
  {
   "cell_type": "code",
   "execution_count": 17,
   "metadata": {},
   "outputs": [],
   "source": [
    "# Helper function for hyper-parameter turning.\n",
    "from sklearn.model_selection import GridSearchCV"
   ]
  },
  {
   "cell_type": "code",
   "execution_count": null,
   "metadata": {},
   "outputs": [],
   "source": [
    "# Parameter tuning using GridSearch\n",
    "# Make a dictionary of at least 3 parameters and a list of 3 values for each for your grid search.\n",
    "# Initalize your GridSearchCV with a MultinomialNB, your param_grid, and what you are optimizing for. \n",
    "# Choose any of the five optimization strategies; accuracy, precision, recall, f1, or roc_auc.\n",
    "# Fit your GridSearchCV with your training data.\n",
    "# Print the parameters of your best model.\n",
    "# Evaluate your best model using accuracy, precision, recall, f1 scores, and auc scores.\n",
    "\n",
    "\n",
    "# params = {'alpha': [.05, .15, .25, .45, .65],\n",
    "#          'fit_prior': ['True', 'False'],\n",
    "#          'class_prior': [\"None\"]\n",
    "#          }\n",
    "\n",
    "# grid_search_cv =  GridSearchCV(\n",
    "#     estimator = MultinomialNB(),\n",
    "#     param_grid = params, \n",
    "#     scoring = 'f1'\n",
    "#     )\n",
    "\n",
    "# -THIS DID NOT WORK"
   ]
  },
  {
   "cell_type": "code",
   "execution_count": null,
   "metadata": {},
   "outputs": [],
   "source": [
    "# grid_search_cv.fit(X_train, y_train) -THIS DID NOT WORK"
   ]
  },
  {
   "cell_type": "code",
   "execution_count": null,
   "metadata": {},
   "outputs": [],
   "source": [
    "#pip install pycaret -ALREADY INSTALLED"
   ]
  },
  {
   "cell_type": "code",
   "execution_count": null,
   "metadata": {},
   "outputs": [],
   "source": [
    "#pip install --pre pycaret -ALREADY INSTALLED"
   ]
  },
  {
   "cell_type": "markdown",
   "metadata": {},
   "source": [
    "## Trying Pycaret compare_models function to determine best model/parameters  \n",
    "#### from https://pycaret.gitbook.io/docs/get-started/functions/train\n",
    "using the cleaned dataframe first with the text preprocessing "
   ]
  },
  {
   "cell_type": "code",
   "execution_count": 18,
   "metadata": {},
   "outputs": [],
   "source": [
    "from pycaret.datasets import get_data "
   ]
  },
  {
   "cell_type": "code",
   "execution_count": 24,
   "metadata": {},
   "outputs": [],
   "source": [
    "df_clean = df.drop(columns = ['message'])"
   ]
  },
  {
   "cell_type": "code",
   "execution_count": 26,
   "metadata": {},
   "outputs": [
    {
     "data": {
      "text/html": [
       "<div>\n",
       "<style scoped>\n",
       "    .dataframe tbody tr th:only-of-type {\n",
       "        vertical-align: middle;\n",
       "    }\n",
       "\n",
       "    .dataframe tbody tr th {\n",
       "        vertical-align: top;\n",
       "    }\n",
       "\n",
       "    .dataframe thead th {\n",
       "        text-align: right;\n",
       "    }\n",
       "</style>\n",
       "<table border=\"1\" class=\"dataframe\">\n",
       "  <thead>\n",
       "    <tr style=\"text-align: right;\">\n",
       "      <th></th>\n",
       "      <th>id</th>\n",
       "      <th>topic</th>\n",
       "      <th>topic_category</th>\n",
       "      <th>message_clean</th>\n",
       "    </tr>\n",
       "  </thead>\n",
       "  <tbody>\n",
       "    <tr>\n",
       "      <th>0</th>\n",
       "      <td>0</td>\n",
       "      <td>7</td>\n",
       "      <td>rec.autos</td>\n",
       "      <td>lerxstwamumdedu where thing subject car nntppo...</td>\n",
       "    </tr>\n",
       "    <tr>\n",
       "      <th>1</th>\n",
       "      <td>1</td>\n",
       "      <td>4</td>\n",
       "      <td>comp.sys.mac.hardware</td>\n",
       "      <td>guykuocarsonuwashingtonedu guy kuo subject si ...</td>\n",
       "    </tr>\n",
       "    <tr>\n",
       "      <th>2</th>\n",
       "      <td>2</td>\n",
       "      <td>4</td>\n",
       "      <td>comp.sys.mac.hardware</td>\n",
       "      <td>twillisececnpurdueedu thoma e willi subject pb...</td>\n",
       "    </tr>\n",
       "    <tr>\n",
       "      <th>3</th>\n",
       "      <td>3</td>\n",
       "      <td>1</td>\n",
       "      <td>comp.graphics</td>\n",
       "      <td>jgreenamb joe green subject weitek p9000 organ...</td>\n",
       "    </tr>\n",
       "    <tr>\n",
       "      <th>4</th>\n",
       "      <td>4</td>\n",
       "      <td>14</td>\n",
       "      <td>sci.space</td>\n",
       "      <td>jcmheadcfaharvardedu jonathan mcdowel subject ...</td>\n",
       "    </tr>\n",
       "  </tbody>\n",
       "</table>\n",
       "</div>"
      ],
      "text/plain": [
       "   id  topic         topic_category  \\\n",
       "0   0      7              rec.autos   \n",
       "1   1      4  comp.sys.mac.hardware   \n",
       "2   2      4  comp.sys.mac.hardware   \n",
       "3   3      1          comp.graphics   \n",
       "4   4     14              sci.space   \n",
       "\n",
       "                                       message_clean  \n",
       "0  lerxstwamumdedu where thing subject car nntppo...  \n",
       "1  guykuocarsonuwashingtonedu guy kuo subject si ...  \n",
       "2  twillisececnpurdueedu thoma e willi subject pb...  \n",
       "3  jgreenamb joe green subject weitek p9000 organ...  \n",
       "4  jcmheadcfaharvardedu jonathan mcdowel subject ...  "
      ]
     },
     "execution_count": 26,
     "metadata": {},
     "output_type": "execute_result"
    }
   ],
   "source": [
    "df_clean.head()"
   ]
  },
  {
   "cell_type": "code",
   "execution_count": 27,
   "metadata": {},
   "outputs": [],
   "source": [
    "from pycaret.classification import * #had to use $ brew install libomp to get this to import w/o error"
   ]
  },
  {
   "cell_type": "code",
   "execution_count": 31,
   "metadata": {},
   "outputs": [],
   "source": [
    "df_clean.to_csv('20-newsgroups_clean.csv')"
   ]
  },
  {
   "cell_type": "code",
   "execution_count": 33,
   "metadata": {},
   "outputs": [
    {
     "data": {
      "text/html": [
       "<div>\n",
       "<style scoped>\n",
       "    .dataframe tbody tr th:only-of-type {\n",
       "        vertical-align: middle;\n",
       "    }\n",
       "\n",
       "    .dataframe tbody tr th {\n",
       "        vertical-align: top;\n",
       "    }\n",
       "\n",
       "    .dataframe thead th {\n",
       "        text-align: right;\n",
       "    }\n",
       "</style>\n",
       "<table border=\"1\" class=\"dataframe\">\n",
       "  <thead>\n",
       "    <tr style=\"text-align: right;\">\n",
       "      <th></th>\n",
       "      <th>Unnamed: 0</th>\n",
       "      <th>id</th>\n",
       "      <th>topic</th>\n",
       "      <th>topic_category</th>\n",
       "      <th>message_clean</th>\n",
       "    </tr>\n",
       "  </thead>\n",
       "  <tbody>\n",
       "    <tr>\n",
       "      <th>0</th>\n",
       "      <td>0</td>\n",
       "      <td>0</td>\n",
       "      <td>7</td>\n",
       "      <td>rec.autos</td>\n",
       "      <td>lerxstwamumdedu where thing subject car nntppo...</td>\n",
       "    </tr>\n",
       "    <tr>\n",
       "      <th>1</th>\n",
       "      <td>1</td>\n",
       "      <td>1</td>\n",
       "      <td>4</td>\n",
       "      <td>comp.sys.mac.hardware</td>\n",
       "      <td>guykuocarsonuwashingtonedu guy kuo subject si ...</td>\n",
       "    </tr>\n",
       "    <tr>\n",
       "      <th>2</th>\n",
       "      <td>2</td>\n",
       "      <td>2</td>\n",
       "      <td>4</td>\n",
       "      <td>comp.sys.mac.hardware</td>\n",
       "      <td>twillisececnpurdueedu thoma e willi subject pb...</td>\n",
       "    </tr>\n",
       "    <tr>\n",
       "      <th>3</th>\n",
       "      <td>3</td>\n",
       "      <td>3</td>\n",
       "      <td>1</td>\n",
       "      <td>comp.graphics</td>\n",
       "      <td>jgreenamb joe green subject weitek p9000 organ...</td>\n",
       "    </tr>\n",
       "    <tr>\n",
       "      <th>4</th>\n",
       "      <td>4</td>\n",
       "      <td>4</td>\n",
       "      <td>14</td>\n",
       "      <td>sci.space</td>\n",
       "      <td>jcmheadcfaharvardedu jonathan mcdowel subject ...</td>\n",
       "    </tr>\n",
       "  </tbody>\n",
       "</table>\n",
       "</div>"
      ],
      "text/plain": [
       "   Unnamed: 0  id  topic         topic_category  \\\n",
       "0           0   0      7              rec.autos   \n",
       "1           1   1      4  comp.sys.mac.hardware   \n",
       "2           2   2      4  comp.sys.mac.hardware   \n",
       "3           3   3      1          comp.graphics   \n",
       "4           4   4     14              sci.space   \n",
       "\n",
       "                                       message_clean  \n",
       "0  lerxstwamumdedu where thing subject car nntppo...  \n",
       "1  guykuocarsonuwashingtonedu guy kuo subject si ...  \n",
       "2  twillisececnpurdueedu thoma e willi subject pb...  \n",
       "3  jgreenamb joe green subject weitek p9000 organ...  \n",
       "4  jcmheadcfaharvardedu jonathan mcdowel subject ...  "
      ]
     },
     "metadata": {},
     "output_type": "display_data"
    }
   ],
   "source": [
    "news_groups = get_data('data/20-newsgroups_clean') "
   ]
  },
  {
   "cell_type": "code",
   "execution_count": 34,
   "metadata": {},
   "outputs": [
    {
     "data": {
      "text/html": [
       "<style  type=\"text/css\" >\n",
       "    #T_7a101a38_5971_11ed_b6c8_3ccd36652747row44_col1 {\n",
       "            background-color:  lightgreen;\n",
       "        }</style><table id=\"T_7a101a38_5971_11ed_b6c8_3ccd36652747\" ><thead>    <tr>        <th class=\"blank level0\" ></th>        <th class=\"col_heading level0 col0\" >Description</th>        <th class=\"col_heading level0 col1\" >Value</th>    </tr></thead><tbody>\n",
       "                <tr>\n",
       "                        <th id=\"T_7a101a38_5971_11ed_b6c8_3ccd36652747level0_row0\" class=\"row_heading level0 row0\" >0</th>\n",
       "                        <td id=\"T_7a101a38_5971_11ed_b6c8_3ccd36652747row0_col0\" class=\"data row0 col0\" >session_id</td>\n",
       "                        <td id=\"T_7a101a38_5971_11ed_b6c8_3ccd36652747row0_col1\" class=\"data row0 col1\" >1409</td>\n",
       "            </tr>\n",
       "            <tr>\n",
       "                        <th id=\"T_7a101a38_5971_11ed_b6c8_3ccd36652747level0_row1\" class=\"row_heading level0 row1\" >1</th>\n",
       "                        <td id=\"T_7a101a38_5971_11ed_b6c8_3ccd36652747row1_col0\" class=\"data row1 col0\" >Target</td>\n",
       "                        <td id=\"T_7a101a38_5971_11ed_b6c8_3ccd36652747row1_col1\" class=\"data row1 col1\" >topic_category</td>\n",
       "            </tr>\n",
       "            <tr>\n",
       "                        <th id=\"T_7a101a38_5971_11ed_b6c8_3ccd36652747level0_row2\" class=\"row_heading level0 row2\" >2</th>\n",
       "                        <td id=\"T_7a101a38_5971_11ed_b6c8_3ccd36652747row2_col0\" class=\"data row2 col0\" >Target Type</td>\n",
       "                        <td id=\"T_7a101a38_5971_11ed_b6c8_3ccd36652747row2_col1\" class=\"data row2 col1\" >Multiclass</td>\n",
       "            </tr>\n",
       "            <tr>\n",
       "                        <th id=\"T_7a101a38_5971_11ed_b6c8_3ccd36652747level0_row3\" class=\"row_heading level0 row3\" >3</th>\n",
       "                        <td id=\"T_7a101a38_5971_11ed_b6c8_3ccd36652747row3_col0\" class=\"data row3 col0\" >Label Encoded</td>\n",
       "                        <td id=\"T_7a101a38_5971_11ed_b6c8_3ccd36652747row3_col1\" class=\"data row3 col1\" >alt.atheism: 0, comp.graphics: 1, comp.os.ms-windows.misc: 2, comp.sys.ibm.pc.hardware: 3, comp.sys.mac.hardware: 4, comp.windows.x: 5, misc.forsale: 6, rec.autos: 7, rec.motorcycles: 8, rec.sport.baseball: 9, rec.sport.hockey: 10, sci.crypt: 11, sci.electronics: 12, sci.med: 13, sci.space: 14, soc.religion.christian: 15, talk.politics.guns: 16, talk.politics.mideast: 17, talk.politics.misc: 18, talk.religion.misc: 19</td>\n",
       "            </tr>\n",
       "            <tr>\n",
       "                        <th id=\"T_7a101a38_5971_11ed_b6c8_3ccd36652747level0_row4\" class=\"row_heading level0 row4\" >4</th>\n",
       "                        <td id=\"T_7a101a38_5971_11ed_b6c8_3ccd36652747row4_col0\" class=\"data row4 col0\" >Original Data</td>\n",
       "                        <td id=\"T_7a101a38_5971_11ed_b6c8_3ccd36652747row4_col1\" class=\"data row4 col1\" >(11314, 5)</td>\n",
       "            </tr>\n",
       "            <tr>\n",
       "                        <th id=\"T_7a101a38_5971_11ed_b6c8_3ccd36652747level0_row5\" class=\"row_heading level0 row5\" >5</th>\n",
       "                        <td id=\"T_7a101a38_5971_11ed_b6c8_3ccd36652747row5_col0\" class=\"data row5 col0\" >Missing Values</td>\n",
       "                        <td id=\"T_7a101a38_5971_11ed_b6c8_3ccd36652747row5_col1\" class=\"data row5 col1\" >False</td>\n",
       "            </tr>\n",
       "            <tr>\n",
       "                        <th id=\"T_7a101a38_5971_11ed_b6c8_3ccd36652747level0_row6\" class=\"row_heading level0 row6\" >6</th>\n",
       "                        <td id=\"T_7a101a38_5971_11ed_b6c8_3ccd36652747row6_col0\" class=\"data row6 col0\" >Numeric Features</td>\n",
       "                        <td id=\"T_7a101a38_5971_11ed_b6c8_3ccd36652747row6_col1\" class=\"data row6 col1\" >2</td>\n",
       "            </tr>\n",
       "            <tr>\n",
       "                        <th id=\"T_7a101a38_5971_11ed_b6c8_3ccd36652747level0_row7\" class=\"row_heading level0 row7\" >7</th>\n",
       "                        <td id=\"T_7a101a38_5971_11ed_b6c8_3ccd36652747row7_col0\" class=\"data row7 col0\" >Categorical Features</td>\n",
       "                        <td id=\"T_7a101a38_5971_11ed_b6c8_3ccd36652747row7_col1\" class=\"data row7 col1\" >2</td>\n",
       "            </tr>\n",
       "            <tr>\n",
       "                        <th id=\"T_7a101a38_5971_11ed_b6c8_3ccd36652747level0_row8\" class=\"row_heading level0 row8\" >8</th>\n",
       "                        <td id=\"T_7a101a38_5971_11ed_b6c8_3ccd36652747row8_col0\" class=\"data row8 col0\" >Ordinal Features</td>\n",
       "                        <td id=\"T_7a101a38_5971_11ed_b6c8_3ccd36652747row8_col1\" class=\"data row8 col1\" >False</td>\n",
       "            </tr>\n",
       "            <tr>\n",
       "                        <th id=\"T_7a101a38_5971_11ed_b6c8_3ccd36652747level0_row9\" class=\"row_heading level0 row9\" >9</th>\n",
       "                        <td id=\"T_7a101a38_5971_11ed_b6c8_3ccd36652747row9_col0\" class=\"data row9 col0\" >High Cardinality Features</td>\n",
       "                        <td id=\"T_7a101a38_5971_11ed_b6c8_3ccd36652747row9_col1\" class=\"data row9 col1\" >False</td>\n",
       "            </tr>\n",
       "            <tr>\n",
       "                        <th id=\"T_7a101a38_5971_11ed_b6c8_3ccd36652747level0_row10\" class=\"row_heading level0 row10\" >10</th>\n",
       "                        <td id=\"T_7a101a38_5971_11ed_b6c8_3ccd36652747row10_col0\" class=\"data row10 col0\" >High Cardinality Method</td>\n",
       "                        <td id=\"T_7a101a38_5971_11ed_b6c8_3ccd36652747row10_col1\" class=\"data row10 col1\" >None</td>\n",
       "            </tr>\n",
       "            <tr>\n",
       "                        <th id=\"T_7a101a38_5971_11ed_b6c8_3ccd36652747level0_row11\" class=\"row_heading level0 row11\" >11</th>\n",
       "                        <td id=\"T_7a101a38_5971_11ed_b6c8_3ccd36652747row11_col0\" class=\"data row11 col0\" >Transformed Train Set</td>\n",
       "                        <td id=\"T_7a101a38_5971_11ed_b6c8_3ccd36652747row11_col1\" class=\"data row11 col1\" >(7919, 7938)</td>\n",
       "            </tr>\n",
       "            <tr>\n",
       "                        <th id=\"T_7a101a38_5971_11ed_b6c8_3ccd36652747level0_row12\" class=\"row_heading level0 row12\" >12</th>\n",
       "                        <td id=\"T_7a101a38_5971_11ed_b6c8_3ccd36652747row12_col0\" class=\"data row12 col0\" >Transformed Test Set</td>\n",
       "                        <td id=\"T_7a101a38_5971_11ed_b6c8_3ccd36652747row12_col1\" class=\"data row12 col1\" >(3395, 7938)</td>\n",
       "            </tr>\n",
       "            <tr>\n",
       "                        <th id=\"T_7a101a38_5971_11ed_b6c8_3ccd36652747level0_row13\" class=\"row_heading level0 row13\" >13</th>\n",
       "                        <td id=\"T_7a101a38_5971_11ed_b6c8_3ccd36652747row13_col0\" class=\"data row13 col0\" >Shuffle Train-Test</td>\n",
       "                        <td id=\"T_7a101a38_5971_11ed_b6c8_3ccd36652747row13_col1\" class=\"data row13 col1\" >True</td>\n",
       "            </tr>\n",
       "            <tr>\n",
       "                        <th id=\"T_7a101a38_5971_11ed_b6c8_3ccd36652747level0_row14\" class=\"row_heading level0 row14\" >14</th>\n",
       "                        <td id=\"T_7a101a38_5971_11ed_b6c8_3ccd36652747row14_col0\" class=\"data row14 col0\" >Stratify Train-Test</td>\n",
       "                        <td id=\"T_7a101a38_5971_11ed_b6c8_3ccd36652747row14_col1\" class=\"data row14 col1\" >False</td>\n",
       "            </tr>\n",
       "            <tr>\n",
       "                        <th id=\"T_7a101a38_5971_11ed_b6c8_3ccd36652747level0_row15\" class=\"row_heading level0 row15\" >15</th>\n",
       "                        <td id=\"T_7a101a38_5971_11ed_b6c8_3ccd36652747row15_col0\" class=\"data row15 col0\" >Fold Generator</td>\n",
       "                        <td id=\"T_7a101a38_5971_11ed_b6c8_3ccd36652747row15_col1\" class=\"data row15 col1\" >StratifiedKFold</td>\n",
       "            </tr>\n",
       "            <tr>\n",
       "                        <th id=\"T_7a101a38_5971_11ed_b6c8_3ccd36652747level0_row16\" class=\"row_heading level0 row16\" >16</th>\n",
       "                        <td id=\"T_7a101a38_5971_11ed_b6c8_3ccd36652747row16_col0\" class=\"data row16 col0\" >Fold Number</td>\n",
       "                        <td id=\"T_7a101a38_5971_11ed_b6c8_3ccd36652747row16_col1\" class=\"data row16 col1\" >10</td>\n",
       "            </tr>\n",
       "            <tr>\n",
       "                        <th id=\"T_7a101a38_5971_11ed_b6c8_3ccd36652747level0_row17\" class=\"row_heading level0 row17\" >17</th>\n",
       "                        <td id=\"T_7a101a38_5971_11ed_b6c8_3ccd36652747row17_col0\" class=\"data row17 col0\" >CPU Jobs</td>\n",
       "                        <td id=\"T_7a101a38_5971_11ed_b6c8_3ccd36652747row17_col1\" class=\"data row17 col1\" >-1</td>\n",
       "            </tr>\n",
       "            <tr>\n",
       "                        <th id=\"T_7a101a38_5971_11ed_b6c8_3ccd36652747level0_row18\" class=\"row_heading level0 row18\" >18</th>\n",
       "                        <td id=\"T_7a101a38_5971_11ed_b6c8_3ccd36652747row18_col0\" class=\"data row18 col0\" >Use GPU</td>\n",
       "                        <td id=\"T_7a101a38_5971_11ed_b6c8_3ccd36652747row18_col1\" class=\"data row18 col1\" >False</td>\n",
       "            </tr>\n",
       "            <tr>\n",
       "                        <th id=\"T_7a101a38_5971_11ed_b6c8_3ccd36652747level0_row19\" class=\"row_heading level0 row19\" >19</th>\n",
       "                        <td id=\"T_7a101a38_5971_11ed_b6c8_3ccd36652747row19_col0\" class=\"data row19 col0\" >Log Experiment</td>\n",
       "                        <td id=\"T_7a101a38_5971_11ed_b6c8_3ccd36652747row19_col1\" class=\"data row19 col1\" >False</td>\n",
       "            </tr>\n",
       "            <tr>\n",
       "                        <th id=\"T_7a101a38_5971_11ed_b6c8_3ccd36652747level0_row20\" class=\"row_heading level0 row20\" >20</th>\n",
       "                        <td id=\"T_7a101a38_5971_11ed_b6c8_3ccd36652747row20_col0\" class=\"data row20 col0\" >Experiment Name</td>\n",
       "                        <td id=\"T_7a101a38_5971_11ed_b6c8_3ccd36652747row20_col1\" class=\"data row20 col1\" >clf-default-name</td>\n",
       "            </tr>\n",
       "            <tr>\n",
       "                        <th id=\"T_7a101a38_5971_11ed_b6c8_3ccd36652747level0_row21\" class=\"row_heading level0 row21\" >21</th>\n",
       "                        <td id=\"T_7a101a38_5971_11ed_b6c8_3ccd36652747row21_col0\" class=\"data row21 col0\" >USI</td>\n",
       "                        <td id=\"T_7a101a38_5971_11ed_b6c8_3ccd36652747row21_col1\" class=\"data row21 col1\" >c5a0</td>\n",
       "            </tr>\n",
       "            <tr>\n",
       "                        <th id=\"T_7a101a38_5971_11ed_b6c8_3ccd36652747level0_row22\" class=\"row_heading level0 row22\" >22</th>\n",
       "                        <td id=\"T_7a101a38_5971_11ed_b6c8_3ccd36652747row22_col0\" class=\"data row22 col0\" >Imputation Type</td>\n",
       "                        <td id=\"T_7a101a38_5971_11ed_b6c8_3ccd36652747row22_col1\" class=\"data row22 col1\" >simple</td>\n",
       "            </tr>\n",
       "            <tr>\n",
       "                        <th id=\"T_7a101a38_5971_11ed_b6c8_3ccd36652747level0_row23\" class=\"row_heading level0 row23\" >23</th>\n",
       "                        <td id=\"T_7a101a38_5971_11ed_b6c8_3ccd36652747row23_col0\" class=\"data row23 col0\" >Iterative Imputation Iteration</td>\n",
       "                        <td id=\"T_7a101a38_5971_11ed_b6c8_3ccd36652747row23_col1\" class=\"data row23 col1\" >None</td>\n",
       "            </tr>\n",
       "            <tr>\n",
       "                        <th id=\"T_7a101a38_5971_11ed_b6c8_3ccd36652747level0_row24\" class=\"row_heading level0 row24\" >24</th>\n",
       "                        <td id=\"T_7a101a38_5971_11ed_b6c8_3ccd36652747row24_col0\" class=\"data row24 col0\" >Numeric Imputer</td>\n",
       "                        <td id=\"T_7a101a38_5971_11ed_b6c8_3ccd36652747row24_col1\" class=\"data row24 col1\" >mean</td>\n",
       "            </tr>\n",
       "            <tr>\n",
       "                        <th id=\"T_7a101a38_5971_11ed_b6c8_3ccd36652747level0_row25\" class=\"row_heading level0 row25\" >25</th>\n",
       "                        <td id=\"T_7a101a38_5971_11ed_b6c8_3ccd36652747row25_col0\" class=\"data row25 col0\" >Iterative Imputation Numeric Model</td>\n",
       "                        <td id=\"T_7a101a38_5971_11ed_b6c8_3ccd36652747row25_col1\" class=\"data row25 col1\" >None</td>\n",
       "            </tr>\n",
       "            <tr>\n",
       "                        <th id=\"T_7a101a38_5971_11ed_b6c8_3ccd36652747level0_row26\" class=\"row_heading level0 row26\" >26</th>\n",
       "                        <td id=\"T_7a101a38_5971_11ed_b6c8_3ccd36652747row26_col0\" class=\"data row26 col0\" >Categorical Imputer</td>\n",
       "                        <td id=\"T_7a101a38_5971_11ed_b6c8_3ccd36652747row26_col1\" class=\"data row26 col1\" >constant</td>\n",
       "            </tr>\n",
       "            <tr>\n",
       "                        <th id=\"T_7a101a38_5971_11ed_b6c8_3ccd36652747level0_row27\" class=\"row_heading level0 row27\" >27</th>\n",
       "                        <td id=\"T_7a101a38_5971_11ed_b6c8_3ccd36652747row27_col0\" class=\"data row27 col0\" >Iterative Imputation Categorical Model</td>\n",
       "                        <td id=\"T_7a101a38_5971_11ed_b6c8_3ccd36652747row27_col1\" class=\"data row27 col1\" >None</td>\n",
       "            </tr>\n",
       "            <tr>\n",
       "                        <th id=\"T_7a101a38_5971_11ed_b6c8_3ccd36652747level0_row28\" class=\"row_heading level0 row28\" >28</th>\n",
       "                        <td id=\"T_7a101a38_5971_11ed_b6c8_3ccd36652747row28_col0\" class=\"data row28 col0\" >Unknown Categoricals Handling</td>\n",
       "                        <td id=\"T_7a101a38_5971_11ed_b6c8_3ccd36652747row28_col1\" class=\"data row28 col1\" >least_frequent</td>\n",
       "            </tr>\n",
       "            <tr>\n",
       "                        <th id=\"T_7a101a38_5971_11ed_b6c8_3ccd36652747level0_row29\" class=\"row_heading level0 row29\" >29</th>\n",
       "                        <td id=\"T_7a101a38_5971_11ed_b6c8_3ccd36652747row29_col0\" class=\"data row29 col0\" >Normalize</td>\n",
       "                        <td id=\"T_7a101a38_5971_11ed_b6c8_3ccd36652747row29_col1\" class=\"data row29 col1\" >False</td>\n",
       "            </tr>\n",
       "            <tr>\n",
       "                        <th id=\"T_7a101a38_5971_11ed_b6c8_3ccd36652747level0_row30\" class=\"row_heading level0 row30\" >30</th>\n",
       "                        <td id=\"T_7a101a38_5971_11ed_b6c8_3ccd36652747row30_col0\" class=\"data row30 col0\" >Normalize Method</td>\n",
       "                        <td id=\"T_7a101a38_5971_11ed_b6c8_3ccd36652747row30_col1\" class=\"data row30 col1\" >None</td>\n",
       "            </tr>\n",
       "            <tr>\n",
       "                        <th id=\"T_7a101a38_5971_11ed_b6c8_3ccd36652747level0_row31\" class=\"row_heading level0 row31\" >31</th>\n",
       "                        <td id=\"T_7a101a38_5971_11ed_b6c8_3ccd36652747row31_col0\" class=\"data row31 col0\" >Transformation</td>\n",
       "                        <td id=\"T_7a101a38_5971_11ed_b6c8_3ccd36652747row31_col1\" class=\"data row31 col1\" >False</td>\n",
       "            </tr>\n",
       "            <tr>\n",
       "                        <th id=\"T_7a101a38_5971_11ed_b6c8_3ccd36652747level0_row32\" class=\"row_heading level0 row32\" >32</th>\n",
       "                        <td id=\"T_7a101a38_5971_11ed_b6c8_3ccd36652747row32_col0\" class=\"data row32 col0\" >Transformation Method</td>\n",
       "                        <td id=\"T_7a101a38_5971_11ed_b6c8_3ccd36652747row32_col1\" class=\"data row32 col1\" >None</td>\n",
       "            </tr>\n",
       "            <tr>\n",
       "                        <th id=\"T_7a101a38_5971_11ed_b6c8_3ccd36652747level0_row33\" class=\"row_heading level0 row33\" >33</th>\n",
       "                        <td id=\"T_7a101a38_5971_11ed_b6c8_3ccd36652747row33_col0\" class=\"data row33 col0\" >PCA</td>\n",
       "                        <td id=\"T_7a101a38_5971_11ed_b6c8_3ccd36652747row33_col1\" class=\"data row33 col1\" >False</td>\n",
       "            </tr>\n",
       "            <tr>\n",
       "                        <th id=\"T_7a101a38_5971_11ed_b6c8_3ccd36652747level0_row34\" class=\"row_heading level0 row34\" >34</th>\n",
       "                        <td id=\"T_7a101a38_5971_11ed_b6c8_3ccd36652747row34_col0\" class=\"data row34 col0\" >PCA Method</td>\n",
       "                        <td id=\"T_7a101a38_5971_11ed_b6c8_3ccd36652747row34_col1\" class=\"data row34 col1\" >None</td>\n",
       "            </tr>\n",
       "            <tr>\n",
       "                        <th id=\"T_7a101a38_5971_11ed_b6c8_3ccd36652747level0_row35\" class=\"row_heading level0 row35\" >35</th>\n",
       "                        <td id=\"T_7a101a38_5971_11ed_b6c8_3ccd36652747row35_col0\" class=\"data row35 col0\" >PCA Components</td>\n",
       "                        <td id=\"T_7a101a38_5971_11ed_b6c8_3ccd36652747row35_col1\" class=\"data row35 col1\" >None</td>\n",
       "            </tr>\n",
       "            <tr>\n",
       "                        <th id=\"T_7a101a38_5971_11ed_b6c8_3ccd36652747level0_row36\" class=\"row_heading level0 row36\" >36</th>\n",
       "                        <td id=\"T_7a101a38_5971_11ed_b6c8_3ccd36652747row36_col0\" class=\"data row36 col0\" >Ignore Low Variance</td>\n",
       "                        <td id=\"T_7a101a38_5971_11ed_b6c8_3ccd36652747row36_col1\" class=\"data row36 col1\" >False</td>\n",
       "            </tr>\n",
       "            <tr>\n",
       "                        <th id=\"T_7a101a38_5971_11ed_b6c8_3ccd36652747level0_row37\" class=\"row_heading level0 row37\" >37</th>\n",
       "                        <td id=\"T_7a101a38_5971_11ed_b6c8_3ccd36652747row37_col0\" class=\"data row37 col0\" >Combine Rare Levels</td>\n",
       "                        <td id=\"T_7a101a38_5971_11ed_b6c8_3ccd36652747row37_col1\" class=\"data row37 col1\" >False</td>\n",
       "            </tr>\n",
       "            <tr>\n",
       "                        <th id=\"T_7a101a38_5971_11ed_b6c8_3ccd36652747level0_row38\" class=\"row_heading level0 row38\" >38</th>\n",
       "                        <td id=\"T_7a101a38_5971_11ed_b6c8_3ccd36652747row38_col0\" class=\"data row38 col0\" >Rare Level Threshold</td>\n",
       "                        <td id=\"T_7a101a38_5971_11ed_b6c8_3ccd36652747row38_col1\" class=\"data row38 col1\" >None</td>\n",
       "            </tr>\n",
       "            <tr>\n",
       "                        <th id=\"T_7a101a38_5971_11ed_b6c8_3ccd36652747level0_row39\" class=\"row_heading level0 row39\" >39</th>\n",
       "                        <td id=\"T_7a101a38_5971_11ed_b6c8_3ccd36652747row39_col0\" class=\"data row39 col0\" >Numeric Binning</td>\n",
       "                        <td id=\"T_7a101a38_5971_11ed_b6c8_3ccd36652747row39_col1\" class=\"data row39 col1\" >False</td>\n",
       "            </tr>\n",
       "            <tr>\n",
       "                        <th id=\"T_7a101a38_5971_11ed_b6c8_3ccd36652747level0_row40\" class=\"row_heading level0 row40\" >40</th>\n",
       "                        <td id=\"T_7a101a38_5971_11ed_b6c8_3ccd36652747row40_col0\" class=\"data row40 col0\" >Remove Outliers</td>\n",
       "                        <td id=\"T_7a101a38_5971_11ed_b6c8_3ccd36652747row40_col1\" class=\"data row40 col1\" >False</td>\n",
       "            </tr>\n",
       "            <tr>\n",
       "                        <th id=\"T_7a101a38_5971_11ed_b6c8_3ccd36652747level0_row41\" class=\"row_heading level0 row41\" >41</th>\n",
       "                        <td id=\"T_7a101a38_5971_11ed_b6c8_3ccd36652747row41_col0\" class=\"data row41 col0\" >Outliers Threshold</td>\n",
       "                        <td id=\"T_7a101a38_5971_11ed_b6c8_3ccd36652747row41_col1\" class=\"data row41 col1\" >None</td>\n",
       "            </tr>\n",
       "            <tr>\n",
       "                        <th id=\"T_7a101a38_5971_11ed_b6c8_3ccd36652747level0_row42\" class=\"row_heading level0 row42\" >42</th>\n",
       "                        <td id=\"T_7a101a38_5971_11ed_b6c8_3ccd36652747row42_col0\" class=\"data row42 col0\" >Remove Multicollinearity</td>\n",
       "                        <td id=\"T_7a101a38_5971_11ed_b6c8_3ccd36652747row42_col1\" class=\"data row42 col1\" >False</td>\n",
       "            </tr>\n",
       "            <tr>\n",
       "                        <th id=\"T_7a101a38_5971_11ed_b6c8_3ccd36652747level0_row43\" class=\"row_heading level0 row43\" >43</th>\n",
       "                        <td id=\"T_7a101a38_5971_11ed_b6c8_3ccd36652747row43_col0\" class=\"data row43 col0\" >Multicollinearity Threshold</td>\n",
       "                        <td id=\"T_7a101a38_5971_11ed_b6c8_3ccd36652747row43_col1\" class=\"data row43 col1\" >None</td>\n",
       "            </tr>\n",
       "            <tr>\n",
       "                        <th id=\"T_7a101a38_5971_11ed_b6c8_3ccd36652747level0_row44\" class=\"row_heading level0 row44\" >44</th>\n",
       "                        <td id=\"T_7a101a38_5971_11ed_b6c8_3ccd36652747row44_col0\" class=\"data row44 col0\" >Remove Perfect Collinearity</td>\n",
       "                        <td id=\"T_7a101a38_5971_11ed_b6c8_3ccd36652747row44_col1\" class=\"data row44 col1\" >True</td>\n",
       "            </tr>\n",
       "            <tr>\n",
       "                        <th id=\"T_7a101a38_5971_11ed_b6c8_3ccd36652747level0_row45\" class=\"row_heading level0 row45\" >45</th>\n",
       "                        <td id=\"T_7a101a38_5971_11ed_b6c8_3ccd36652747row45_col0\" class=\"data row45 col0\" >Clustering</td>\n",
       "                        <td id=\"T_7a101a38_5971_11ed_b6c8_3ccd36652747row45_col1\" class=\"data row45 col1\" >False</td>\n",
       "            </tr>\n",
       "            <tr>\n",
       "                        <th id=\"T_7a101a38_5971_11ed_b6c8_3ccd36652747level0_row46\" class=\"row_heading level0 row46\" >46</th>\n",
       "                        <td id=\"T_7a101a38_5971_11ed_b6c8_3ccd36652747row46_col0\" class=\"data row46 col0\" >Clustering Iteration</td>\n",
       "                        <td id=\"T_7a101a38_5971_11ed_b6c8_3ccd36652747row46_col1\" class=\"data row46 col1\" >None</td>\n",
       "            </tr>\n",
       "            <tr>\n",
       "                        <th id=\"T_7a101a38_5971_11ed_b6c8_3ccd36652747level0_row47\" class=\"row_heading level0 row47\" >47</th>\n",
       "                        <td id=\"T_7a101a38_5971_11ed_b6c8_3ccd36652747row47_col0\" class=\"data row47 col0\" >Polynomial Features</td>\n",
       "                        <td id=\"T_7a101a38_5971_11ed_b6c8_3ccd36652747row47_col1\" class=\"data row47 col1\" >False</td>\n",
       "            </tr>\n",
       "            <tr>\n",
       "                        <th id=\"T_7a101a38_5971_11ed_b6c8_3ccd36652747level0_row48\" class=\"row_heading level0 row48\" >48</th>\n",
       "                        <td id=\"T_7a101a38_5971_11ed_b6c8_3ccd36652747row48_col0\" class=\"data row48 col0\" >Polynomial Degree</td>\n",
       "                        <td id=\"T_7a101a38_5971_11ed_b6c8_3ccd36652747row48_col1\" class=\"data row48 col1\" >None</td>\n",
       "            </tr>\n",
       "            <tr>\n",
       "                        <th id=\"T_7a101a38_5971_11ed_b6c8_3ccd36652747level0_row49\" class=\"row_heading level0 row49\" >49</th>\n",
       "                        <td id=\"T_7a101a38_5971_11ed_b6c8_3ccd36652747row49_col0\" class=\"data row49 col0\" >Trignometry Features</td>\n",
       "                        <td id=\"T_7a101a38_5971_11ed_b6c8_3ccd36652747row49_col1\" class=\"data row49 col1\" >False</td>\n",
       "            </tr>\n",
       "            <tr>\n",
       "                        <th id=\"T_7a101a38_5971_11ed_b6c8_3ccd36652747level0_row50\" class=\"row_heading level0 row50\" >50</th>\n",
       "                        <td id=\"T_7a101a38_5971_11ed_b6c8_3ccd36652747row50_col0\" class=\"data row50 col0\" >Polynomial Threshold</td>\n",
       "                        <td id=\"T_7a101a38_5971_11ed_b6c8_3ccd36652747row50_col1\" class=\"data row50 col1\" >None</td>\n",
       "            </tr>\n",
       "            <tr>\n",
       "                        <th id=\"T_7a101a38_5971_11ed_b6c8_3ccd36652747level0_row51\" class=\"row_heading level0 row51\" >51</th>\n",
       "                        <td id=\"T_7a101a38_5971_11ed_b6c8_3ccd36652747row51_col0\" class=\"data row51 col0\" >Group Features</td>\n",
       "                        <td id=\"T_7a101a38_5971_11ed_b6c8_3ccd36652747row51_col1\" class=\"data row51 col1\" >False</td>\n",
       "            </tr>\n",
       "            <tr>\n",
       "                        <th id=\"T_7a101a38_5971_11ed_b6c8_3ccd36652747level0_row52\" class=\"row_heading level0 row52\" >52</th>\n",
       "                        <td id=\"T_7a101a38_5971_11ed_b6c8_3ccd36652747row52_col0\" class=\"data row52 col0\" >Feature Selection</td>\n",
       "                        <td id=\"T_7a101a38_5971_11ed_b6c8_3ccd36652747row52_col1\" class=\"data row52 col1\" >False</td>\n",
       "            </tr>\n",
       "            <tr>\n",
       "                        <th id=\"T_7a101a38_5971_11ed_b6c8_3ccd36652747level0_row53\" class=\"row_heading level0 row53\" >53</th>\n",
       "                        <td id=\"T_7a101a38_5971_11ed_b6c8_3ccd36652747row53_col0\" class=\"data row53 col0\" >Feature Selection Method</td>\n",
       "                        <td id=\"T_7a101a38_5971_11ed_b6c8_3ccd36652747row53_col1\" class=\"data row53 col1\" >classic</td>\n",
       "            </tr>\n",
       "            <tr>\n",
       "                        <th id=\"T_7a101a38_5971_11ed_b6c8_3ccd36652747level0_row54\" class=\"row_heading level0 row54\" >54</th>\n",
       "                        <td id=\"T_7a101a38_5971_11ed_b6c8_3ccd36652747row54_col0\" class=\"data row54 col0\" >Features Selection Threshold</td>\n",
       "                        <td id=\"T_7a101a38_5971_11ed_b6c8_3ccd36652747row54_col1\" class=\"data row54 col1\" >None</td>\n",
       "            </tr>\n",
       "            <tr>\n",
       "                        <th id=\"T_7a101a38_5971_11ed_b6c8_3ccd36652747level0_row55\" class=\"row_heading level0 row55\" >55</th>\n",
       "                        <td id=\"T_7a101a38_5971_11ed_b6c8_3ccd36652747row55_col0\" class=\"data row55 col0\" >Feature Interaction</td>\n",
       "                        <td id=\"T_7a101a38_5971_11ed_b6c8_3ccd36652747row55_col1\" class=\"data row55 col1\" >False</td>\n",
       "            </tr>\n",
       "            <tr>\n",
       "                        <th id=\"T_7a101a38_5971_11ed_b6c8_3ccd36652747level0_row56\" class=\"row_heading level0 row56\" >56</th>\n",
       "                        <td id=\"T_7a101a38_5971_11ed_b6c8_3ccd36652747row56_col0\" class=\"data row56 col0\" >Feature Ratio</td>\n",
       "                        <td id=\"T_7a101a38_5971_11ed_b6c8_3ccd36652747row56_col1\" class=\"data row56 col1\" >False</td>\n",
       "            </tr>\n",
       "            <tr>\n",
       "                        <th id=\"T_7a101a38_5971_11ed_b6c8_3ccd36652747level0_row57\" class=\"row_heading level0 row57\" >57</th>\n",
       "                        <td id=\"T_7a101a38_5971_11ed_b6c8_3ccd36652747row57_col0\" class=\"data row57 col0\" >Interaction Threshold</td>\n",
       "                        <td id=\"T_7a101a38_5971_11ed_b6c8_3ccd36652747row57_col1\" class=\"data row57 col1\" >None</td>\n",
       "            </tr>\n",
       "            <tr>\n",
       "                        <th id=\"T_7a101a38_5971_11ed_b6c8_3ccd36652747level0_row58\" class=\"row_heading level0 row58\" >58</th>\n",
       "                        <td id=\"T_7a101a38_5971_11ed_b6c8_3ccd36652747row58_col0\" class=\"data row58 col0\" >Fix Imbalance</td>\n",
       "                        <td id=\"T_7a101a38_5971_11ed_b6c8_3ccd36652747row58_col1\" class=\"data row58 col1\" >False</td>\n",
       "            </tr>\n",
       "            <tr>\n",
       "                        <th id=\"T_7a101a38_5971_11ed_b6c8_3ccd36652747level0_row59\" class=\"row_heading level0 row59\" >59</th>\n",
       "                        <td id=\"T_7a101a38_5971_11ed_b6c8_3ccd36652747row59_col0\" class=\"data row59 col0\" >Fix Imbalance Method</td>\n",
       "                        <td id=\"T_7a101a38_5971_11ed_b6c8_3ccd36652747row59_col1\" class=\"data row59 col1\" >SMOTE</td>\n",
       "            </tr>\n",
       "    </tbody></table>"
      ],
      "text/plain": [
       "<pandas.io.formats.style.Styler at 0x7fbb004e1700>"
      ]
     },
     "metadata": {},
     "output_type": "display_data"
    }
   ],
   "source": [
    "clf1 = setup(data = news_groups, target = 'topic_category')"
   ]
  },
  {
   "cell_type": "code",
   "execution_count": 35,
   "metadata": {},
   "outputs": [],
   "source": [
    "from sklearn.linear_model import LogisticRegression\n",
    "from sklearn.tree import DecisionTreeClassifier"
   ]
  },
  {
   "cell_type": "code",
   "execution_count": 39,
   "metadata": {},
   "outputs": [
    {
     "data": {
      "text/html": [
       "<style  type=\"text/css\" >\n",
       "    #T_4b4c0012_5972_11ed_b6c8_3ccd36652747 th {\n",
       "          text-align: left;\n",
       "    }    #T_4b4c0012_5972_11ed_b6c8_3ccd36652747row0_col0 {\n",
       "            text-align:  left;\n",
       "            text-align:  left;\n",
       "        }    #T_4b4c0012_5972_11ed_b6c8_3ccd36652747row0_col1 {\n",
       "            text-align:  left;\n",
       "            text-align:  left;\n",
       "            background-color:  yellow;\n",
       "        }    #T_4b4c0012_5972_11ed_b6c8_3ccd36652747row0_col2 {\n",
       "            text-align:  left;\n",
       "            text-align:  left;\n",
       "            background-color:  yellow;\n",
       "        }    #T_4b4c0012_5972_11ed_b6c8_3ccd36652747row0_col3 {\n",
       "            text-align:  left;\n",
       "            text-align:  left;\n",
       "            background-color:  yellow;\n",
       "        }    #T_4b4c0012_5972_11ed_b6c8_3ccd36652747row0_col4 {\n",
       "            text-align:  left;\n",
       "            text-align:  left;\n",
       "            background-color:  yellow;\n",
       "        }    #T_4b4c0012_5972_11ed_b6c8_3ccd36652747row0_col5 {\n",
       "            text-align:  left;\n",
       "            text-align:  left;\n",
       "            background-color:  yellow;\n",
       "        }    #T_4b4c0012_5972_11ed_b6c8_3ccd36652747row0_col6 {\n",
       "            text-align:  left;\n",
       "            text-align:  left;\n",
       "            background-color:  yellow;\n",
       "        }    #T_4b4c0012_5972_11ed_b6c8_3ccd36652747row0_col7 {\n",
       "            text-align:  left;\n",
       "            text-align:  left;\n",
       "            background-color:  yellow;\n",
       "        }    #T_4b4c0012_5972_11ed_b6c8_3ccd36652747row0_col8 {\n",
       "            text-align:  left;\n",
       "            text-align:  left;\n",
       "            : ;\n",
       "            background-color:  lightgrey;\n",
       "        }    #T_4b4c0012_5972_11ed_b6c8_3ccd36652747row1_col0 {\n",
       "            text-align:  left;\n",
       "            text-align:  left;\n",
       "        }    #T_4b4c0012_5972_11ed_b6c8_3ccd36652747row1_col1 {\n",
       "            text-align:  left;\n",
       "            text-align:  left;\n",
       "            background-color:  yellow;\n",
       "        }    #T_4b4c0012_5972_11ed_b6c8_3ccd36652747row1_col2 {\n",
       "            text-align:  left;\n",
       "            text-align:  left;\n",
       "            background-color:  yellow;\n",
       "        }    #T_4b4c0012_5972_11ed_b6c8_3ccd36652747row1_col3 {\n",
       "            text-align:  left;\n",
       "            text-align:  left;\n",
       "            background-color:  yellow;\n",
       "        }    #T_4b4c0012_5972_11ed_b6c8_3ccd36652747row1_col4 {\n",
       "            text-align:  left;\n",
       "            text-align:  left;\n",
       "            background-color:  yellow;\n",
       "        }    #T_4b4c0012_5972_11ed_b6c8_3ccd36652747row1_col5 {\n",
       "            text-align:  left;\n",
       "            text-align:  left;\n",
       "            background-color:  yellow;\n",
       "        }    #T_4b4c0012_5972_11ed_b6c8_3ccd36652747row1_col6 {\n",
       "            text-align:  left;\n",
       "            text-align:  left;\n",
       "            background-color:  yellow;\n",
       "        }    #T_4b4c0012_5972_11ed_b6c8_3ccd36652747row1_col7 {\n",
       "            text-align:  left;\n",
       "            text-align:  left;\n",
       "            background-color:  yellow;\n",
       "        }    #T_4b4c0012_5972_11ed_b6c8_3ccd36652747row1_col8 {\n",
       "            text-align:  left;\n",
       "            text-align:  left;\n",
       "            background-color:  yellow;\n",
       "            background-color:  lightgrey;\n",
       "        }    #T_4b4c0012_5972_11ed_b6c8_3ccd36652747row2_col0 {\n",
       "            text-align:  left;\n",
       "            text-align:  left;\n",
       "        }    #T_4b4c0012_5972_11ed_b6c8_3ccd36652747row2_col1 {\n",
       "            text-align:  left;\n",
       "            text-align:  left;\n",
       "            background-color:  yellow;\n",
       "        }    #T_4b4c0012_5972_11ed_b6c8_3ccd36652747row2_col2 {\n",
       "            text-align:  left;\n",
       "            text-align:  left;\n",
       "            background-color:  yellow;\n",
       "        }    #T_4b4c0012_5972_11ed_b6c8_3ccd36652747row2_col3 {\n",
       "            text-align:  left;\n",
       "            text-align:  left;\n",
       "            background-color:  yellow;\n",
       "        }    #T_4b4c0012_5972_11ed_b6c8_3ccd36652747row2_col4 {\n",
       "            text-align:  left;\n",
       "            text-align:  left;\n",
       "            background-color:  yellow;\n",
       "        }    #T_4b4c0012_5972_11ed_b6c8_3ccd36652747row2_col5 {\n",
       "            text-align:  left;\n",
       "            text-align:  left;\n",
       "            background-color:  yellow;\n",
       "        }    #T_4b4c0012_5972_11ed_b6c8_3ccd36652747row2_col6 {\n",
       "            text-align:  left;\n",
       "            text-align:  left;\n",
       "            background-color:  yellow;\n",
       "        }    #T_4b4c0012_5972_11ed_b6c8_3ccd36652747row2_col7 {\n",
       "            text-align:  left;\n",
       "            text-align:  left;\n",
       "            background-color:  yellow;\n",
       "        }    #T_4b4c0012_5972_11ed_b6c8_3ccd36652747row2_col8 {\n",
       "            text-align:  left;\n",
       "            text-align:  left;\n",
       "            : ;\n",
       "            background-color:  lightgrey;\n",
       "        }</style><table id=\"T_4b4c0012_5972_11ed_b6c8_3ccd36652747\" ><thead>    <tr>        <th class=\"blank level0\" ></th>        <th class=\"col_heading level0 col0\" >Model</th>        <th class=\"col_heading level0 col1\" >Accuracy</th>        <th class=\"col_heading level0 col2\" >AUC</th>        <th class=\"col_heading level0 col3\" >Recall</th>        <th class=\"col_heading level0 col4\" >Prec.</th>        <th class=\"col_heading level0 col5\" >F1</th>        <th class=\"col_heading level0 col6\" >Kappa</th>        <th class=\"col_heading level0 col7\" >MCC</th>        <th class=\"col_heading level0 col8\" >TT (Sec)</th>    </tr></thead><tbody>\n",
       "                <tr>\n",
       "                        <th id=\"T_4b4c0012_5972_11ed_b6c8_3ccd36652747level0_row0\" class=\"row_heading level0 row0\" >lr</th>\n",
       "                        <td id=\"T_4b4c0012_5972_11ed_b6c8_3ccd36652747row0_col0\" class=\"data row0 col0\" >Logistic Regression</td>\n",
       "                        <td id=\"T_4b4c0012_5972_11ed_b6c8_3ccd36652747row0_col1\" class=\"data row0 col1\" >1.0000</td>\n",
       "                        <td id=\"T_4b4c0012_5972_11ed_b6c8_3ccd36652747row0_col2\" class=\"data row0 col2\" >1.0000</td>\n",
       "                        <td id=\"T_4b4c0012_5972_11ed_b6c8_3ccd36652747row0_col3\" class=\"data row0 col3\" >1.0000</td>\n",
       "                        <td id=\"T_4b4c0012_5972_11ed_b6c8_3ccd36652747row0_col4\" class=\"data row0 col4\" >1.0000</td>\n",
       "                        <td id=\"T_4b4c0012_5972_11ed_b6c8_3ccd36652747row0_col5\" class=\"data row0 col5\" >1.0000</td>\n",
       "                        <td id=\"T_4b4c0012_5972_11ed_b6c8_3ccd36652747row0_col6\" class=\"data row0 col6\" >1.0000</td>\n",
       "                        <td id=\"T_4b4c0012_5972_11ed_b6c8_3ccd36652747row0_col7\" class=\"data row0 col7\" >1.0000</td>\n",
       "                        <td id=\"T_4b4c0012_5972_11ed_b6c8_3ccd36652747row0_col8\" class=\"data row0 col8\" >2.8860</td>\n",
       "            </tr>\n",
       "            <tr>\n",
       "                        <th id=\"T_4b4c0012_5972_11ed_b6c8_3ccd36652747level0_row1\" class=\"row_heading level0 row1\" >dt</th>\n",
       "                        <td id=\"T_4b4c0012_5972_11ed_b6c8_3ccd36652747row1_col0\" class=\"data row1 col0\" >Decision Tree Classifier</td>\n",
       "                        <td id=\"T_4b4c0012_5972_11ed_b6c8_3ccd36652747row1_col1\" class=\"data row1 col1\" >1.0000</td>\n",
       "                        <td id=\"T_4b4c0012_5972_11ed_b6c8_3ccd36652747row1_col2\" class=\"data row1 col2\" >1.0000</td>\n",
       "                        <td id=\"T_4b4c0012_5972_11ed_b6c8_3ccd36652747row1_col3\" class=\"data row1 col3\" >1.0000</td>\n",
       "                        <td id=\"T_4b4c0012_5972_11ed_b6c8_3ccd36652747row1_col4\" class=\"data row1 col4\" >1.0000</td>\n",
       "                        <td id=\"T_4b4c0012_5972_11ed_b6c8_3ccd36652747row1_col5\" class=\"data row1 col5\" >1.0000</td>\n",
       "                        <td id=\"T_4b4c0012_5972_11ed_b6c8_3ccd36652747row1_col6\" class=\"data row1 col6\" >1.0000</td>\n",
       "                        <td id=\"T_4b4c0012_5972_11ed_b6c8_3ccd36652747row1_col7\" class=\"data row1 col7\" >1.0000</td>\n",
       "                        <td id=\"T_4b4c0012_5972_11ed_b6c8_3ccd36652747row1_col8\" class=\"data row1 col8\" >0.4490</td>\n",
       "            </tr>\n",
       "            <tr>\n",
       "                        <th id=\"T_4b4c0012_5972_11ed_b6c8_3ccd36652747level0_row2\" class=\"row_heading level0 row2\" >rf</th>\n",
       "                        <td id=\"T_4b4c0012_5972_11ed_b6c8_3ccd36652747row2_col0\" class=\"data row2 col0\" >Random Forest Classifier</td>\n",
       "                        <td id=\"T_4b4c0012_5972_11ed_b6c8_3ccd36652747row2_col1\" class=\"data row2 col1\" >1.0000</td>\n",
       "                        <td id=\"T_4b4c0012_5972_11ed_b6c8_3ccd36652747row2_col2\" class=\"data row2 col2\" >1.0000</td>\n",
       "                        <td id=\"T_4b4c0012_5972_11ed_b6c8_3ccd36652747row2_col3\" class=\"data row2 col3\" >1.0000</td>\n",
       "                        <td id=\"T_4b4c0012_5972_11ed_b6c8_3ccd36652747row2_col4\" class=\"data row2 col4\" >1.0000</td>\n",
       "                        <td id=\"T_4b4c0012_5972_11ed_b6c8_3ccd36652747row2_col5\" class=\"data row2 col5\" >1.0000</td>\n",
       "                        <td id=\"T_4b4c0012_5972_11ed_b6c8_3ccd36652747row2_col6\" class=\"data row2 col6\" >1.0000</td>\n",
       "                        <td id=\"T_4b4c0012_5972_11ed_b6c8_3ccd36652747row2_col7\" class=\"data row2 col7\" >1.0000</td>\n",
       "                        <td id=\"T_4b4c0012_5972_11ed_b6c8_3ccd36652747row2_col8\" class=\"data row2 col8\" >1.3950</td>\n",
       "            </tr>\n",
       "    </tbody></table>"
      ],
      "text/plain": [
       "<pandas.io.formats.style.Styler at 0x7fbb566b9e80>"
      ]
     },
     "metadata": {},
     "output_type": "display_data"
    },
    {
     "name": "stdout",
     "output_type": "stream",
     "text": [
      "LogisticRegression(C=1.0, class_weight=None, dual=False, fit_intercept=True,\n",
      "                   intercept_scaling=1, l1_ratio=None, max_iter=1000,\n",
      "                   multi_class='auto', n_jobs=None, penalty='l2',\n",
      "                   random_state=1409, solver='lbfgs', tol=0.0001, verbose=0,\n",
      "                   warm_start=False)\n"
     ]
    }
   ],
   "source": [
    "lr = LogisticRegression()\n",
    "dt = DecisionTreeClassifier()\n",
    "rf = RandomForestClassifier()\n",
    "#mnb = MultinomialNB()\n",
    "\n",
    "best = compare_models(include = ['lr', 'dt', 'rf'])\n",
    "print(best)"
   ]
  },
  {
   "cell_type": "markdown",
   "metadata": {},
   "source": [
    "# Using the raw csv file & running all models"
   ]
  },
  {
   "cell_type": "code",
   "execution_count": 41,
   "metadata": {},
   "outputs": [
    {
     "data": {
      "text/html": [
       "<style  type=\"text/css\" >\n",
       "    #T_00e29e74_5976_11ed_b6c8_3ccd36652747 th {\n",
       "          text-align: left;\n",
       "    }    #T_00e29e74_5976_11ed_b6c8_3ccd36652747row0_col0 {\n",
       "            text-align:  left;\n",
       "            text-align:  left;\n",
       "        }    #T_00e29e74_5976_11ed_b6c8_3ccd36652747row0_col1 {\n",
       "            text-align:  left;\n",
       "            text-align:  left;\n",
       "            background-color:  yellow;\n",
       "        }    #T_00e29e74_5976_11ed_b6c8_3ccd36652747row0_col2 {\n",
       "            text-align:  left;\n",
       "            text-align:  left;\n",
       "            background-color:  yellow;\n",
       "        }    #T_00e29e74_5976_11ed_b6c8_3ccd36652747row0_col3 {\n",
       "            text-align:  left;\n",
       "            text-align:  left;\n",
       "            background-color:  yellow;\n",
       "        }    #T_00e29e74_5976_11ed_b6c8_3ccd36652747row0_col4 {\n",
       "            text-align:  left;\n",
       "            text-align:  left;\n",
       "            background-color:  yellow;\n",
       "        }    #T_00e29e74_5976_11ed_b6c8_3ccd36652747row0_col5 {\n",
       "            text-align:  left;\n",
       "            text-align:  left;\n",
       "            background-color:  yellow;\n",
       "        }    #T_00e29e74_5976_11ed_b6c8_3ccd36652747row0_col6 {\n",
       "            text-align:  left;\n",
       "            text-align:  left;\n",
       "            background-color:  yellow;\n",
       "        }    #T_00e29e74_5976_11ed_b6c8_3ccd36652747row0_col7 {\n",
       "            text-align:  left;\n",
       "            text-align:  left;\n",
       "            background-color:  yellow;\n",
       "        }    #T_00e29e74_5976_11ed_b6c8_3ccd36652747row0_col8 {\n",
       "            text-align:  left;\n",
       "            text-align:  left;\n",
       "            : ;\n",
       "            background-color:  lightgrey;\n",
       "        }    #T_00e29e74_5976_11ed_b6c8_3ccd36652747row1_col0 {\n",
       "            text-align:  left;\n",
       "            text-align:  left;\n",
       "        }    #T_00e29e74_5976_11ed_b6c8_3ccd36652747row1_col1 {\n",
       "            text-align:  left;\n",
       "            text-align:  left;\n",
       "            background-color:  yellow;\n",
       "        }    #T_00e29e74_5976_11ed_b6c8_3ccd36652747row1_col2 {\n",
       "            text-align:  left;\n",
       "            text-align:  left;\n",
       "            background-color:  yellow;\n",
       "        }    #T_00e29e74_5976_11ed_b6c8_3ccd36652747row1_col3 {\n",
       "            text-align:  left;\n",
       "            text-align:  left;\n",
       "            background-color:  yellow;\n",
       "        }    #T_00e29e74_5976_11ed_b6c8_3ccd36652747row1_col4 {\n",
       "            text-align:  left;\n",
       "            text-align:  left;\n",
       "            background-color:  yellow;\n",
       "        }    #T_00e29e74_5976_11ed_b6c8_3ccd36652747row1_col5 {\n",
       "            text-align:  left;\n",
       "            text-align:  left;\n",
       "            background-color:  yellow;\n",
       "        }    #T_00e29e74_5976_11ed_b6c8_3ccd36652747row1_col6 {\n",
       "            text-align:  left;\n",
       "            text-align:  left;\n",
       "            background-color:  yellow;\n",
       "        }    #T_00e29e74_5976_11ed_b6c8_3ccd36652747row1_col7 {\n",
       "            text-align:  left;\n",
       "            text-align:  left;\n",
       "            background-color:  yellow;\n",
       "        }    #T_00e29e74_5976_11ed_b6c8_3ccd36652747row1_col8 {\n",
       "            text-align:  left;\n",
       "            text-align:  left;\n",
       "            : ;\n",
       "            background-color:  lightgrey;\n",
       "        }    #T_00e29e74_5976_11ed_b6c8_3ccd36652747row2_col0 {\n",
       "            text-align:  left;\n",
       "            text-align:  left;\n",
       "        }    #T_00e29e74_5976_11ed_b6c8_3ccd36652747row2_col1 {\n",
       "            text-align:  left;\n",
       "            text-align:  left;\n",
       "            background-color:  yellow;\n",
       "        }    #T_00e29e74_5976_11ed_b6c8_3ccd36652747row2_col2 {\n",
       "            text-align:  left;\n",
       "            text-align:  left;\n",
       "            background-color:  yellow;\n",
       "        }    #T_00e29e74_5976_11ed_b6c8_3ccd36652747row2_col3 {\n",
       "            text-align:  left;\n",
       "            text-align:  left;\n",
       "            background-color:  yellow;\n",
       "        }    #T_00e29e74_5976_11ed_b6c8_3ccd36652747row2_col4 {\n",
       "            text-align:  left;\n",
       "            text-align:  left;\n",
       "            background-color:  yellow;\n",
       "        }    #T_00e29e74_5976_11ed_b6c8_3ccd36652747row2_col5 {\n",
       "            text-align:  left;\n",
       "            text-align:  left;\n",
       "            background-color:  yellow;\n",
       "        }    #T_00e29e74_5976_11ed_b6c8_3ccd36652747row2_col6 {\n",
       "            text-align:  left;\n",
       "            text-align:  left;\n",
       "            background-color:  yellow;\n",
       "        }    #T_00e29e74_5976_11ed_b6c8_3ccd36652747row2_col7 {\n",
       "            text-align:  left;\n",
       "            text-align:  left;\n",
       "            background-color:  yellow;\n",
       "        }    #T_00e29e74_5976_11ed_b6c8_3ccd36652747row2_col8 {\n",
       "            text-align:  left;\n",
       "            text-align:  left;\n",
       "            : ;\n",
       "            background-color:  lightgrey;\n",
       "        }    #T_00e29e74_5976_11ed_b6c8_3ccd36652747row3_col0 {\n",
       "            text-align:  left;\n",
       "            text-align:  left;\n",
       "        }    #T_00e29e74_5976_11ed_b6c8_3ccd36652747row3_col1 {\n",
       "            text-align:  left;\n",
       "            text-align:  left;\n",
       "            background-color:  yellow;\n",
       "        }    #T_00e29e74_5976_11ed_b6c8_3ccd36652747row3_col2 {\n",
       "            text-align:  left;\n",
       "            text-align:  left;\n",
       "            background-color:  yellow;\n",
       "        }    #T_00e29e74_5976_11ed_b6c8_3ccd36652747row3_col3 {\n",
       "            text-align:  left;\n",
       "            text-align:  left;\n",
       "            background-color:  yellow;\n",
       "        }    #T_00e29e74_5976_11ed_b6c8_3ccd36652747row3_col4 {\n",
       "            text-align:  left;\n",
       "            text-align:  left;\n",
       "            background-color:  yellow;\n",
       "        }    #T_00e29e74_5976_11ed_b6c8_3ccd36652747row3_col5 {\n",
       "            text-align:  left;\n",
       "            text-align:  left;\n",
       "            background-color:  yellow;\n",
       "        }    #T_00e29e74_5976_11ed_b6c8_3ccd36652747row3_col6 {\n",
       "            text-align:  left;\n",
       "            text-align:  left;\n",
       "            background-color:  yellow;\n",
       "        }    #T_00e29e74_5976_11ed_b6c8_3ccd36652747row3_col7 {\n",
       "            text-align:  left;\n",
       "            text-align:  left;\n",
       "            background-color:  yellow;\n",
       "        }    #T_00e29e74_5976_11ed_b6c8_3ccd36652747row3_col8 {\n",
       "            text-align:  left;\n",
       "            text-align:  left;\n",
       "            : ;\n",
       "            background-color:  lightgrey;\n",
       "        }    #T_00e29e74_5976_11ed_b6c8_3ccd36652747row4_col0 {\n",
       "            text-align:  left;\n",
       "            text-align:  left;\n",
       "        }    #T_00e29e74_5976_11ed_b6c8_3ccd36652747row4_col1 {\n",
       "            text-align:  left;\n",
       "            text-align:  left;\n",
       "            background-color:  yellow;\n",
       "        }    #T_00e29e74_5976_11ed_b6c8_3ccd36652747row4_col2 {\n",
       "            text-align:  left;\n",
       "            text-align:  left;\n",
       "            : ;\n",
       "        }    #T_00e29e74_5976_11ed_b6c8_3ccd36652747row4_col3 {\n",
       "            text-align:  left;\n",
       "            text-align:  left;\n",
       "            background-color:  yellow;\n",
       "        }    #T_00e29e74_5976_11ed_b6c8_3ccd36652747row4_col4 {\n",
       "            text-align:  left;\n",
       "            text-align:  left;\n",
       "            background-color:  yellow;\n",
       "        }    #T_00e29e74_5976_11ed_b6c8_3ccd36652747row4_col5 {\n",
       "            text-align:  left;\n",
       "            text-align:  left;\n",
       "            background-color:  yellow;\n",
       "        }    #T_00e29e74_5976_11ed_b6c8_3ccd36652747row4_col6 {\n",
       "            text-align:  left;\n",
       "            text-align:  left;\n",
       "            background-color:  yellow;\n",
       "        }    #T_00e29e74_5976_11ed_b6c8_3ccd36652747row4_col7 {\n",
       "            text-align:  left;\n",
       "            text-align:  left;\n",
       "            background-color:  yellow;\n",
       "        }    #T_00e29e74_5976_11ed_b6c8_3ccd36652747row4_col8 {\n",
       "            text-align:  left;\n",
       "            text-align:  left;\n",
       "            : ;\n",
       "            background-color:  lightgrey;\n",
       "        }    #T_00e29e74_5976_11ed_b6c8_3ccd36652747row5_col0 {\n",
       "            text-align:  left;\n",
       "            text-align:  left;\n",
       "        }    #T_00e29e74_5976_11ed_b6c8_3ccd36652747row5_col1 {\n",
       "            text-align:  left;\n",
       "            text-align:  left;\n",
       "            background-color:  yellow;\n",
       "        }    #T_00e29e74_5976_11ed_b6c8_3ccd36652747row5_col2 {\n",
       "            text-align:  left;\n",
       "            text-align:  left;\n",
       "            : ;\n",
       "        }    #T_00e29e74_5976_11ed_b6c8_3ccd36652747row5_col3 {\n",
       "            text-align:  left;\n",
       "            text-align:  left;\n",
       "            background-color:  yellow;\n",
       "        }    #T_00e29e74_5976_11ed_b6c8_3ccd36652747row5_col4 {\n",
       "            text-align:  left;\n",
       "            text-align:  left;\n",
       "            background-color:  yellow;\n",
       "        }    #T_00e29e74_5976_11ed_b6c8_3ccd36652747row5_col5 {\n",
       "            text-align:  left;\n",
       "            text-align:  left;\n",
       "            background-color:  yellow;\n",
       "        }    #T_00e29e74_5976_11ed_b6c8_3ccd36652747row5_col6 {\n",
       "            text-align:  left;\n",
       "            text-align:  left;\n",
       "            background-color:  yellow;\n",
       "        }    #T_00e29e74_5976_11ed_b6c8_3ccd36652747row5_col7 {\n",
       "            text-align:  left;\n",
       "            text-align:  left;\n",
       "            background-color:  yellow;\n",
       "        }    #T_00e29e74_5976_11ed_b6c8_3ccd36652747row5_col8 {\n",
       "            text-align:  left;\n",
       "            text-align:  left;\n",
       "            : ;\n",
       "            background-color:  lightgrey;\n",
       "        }    #T_00e29e74_5976_11ed_b6c8_3ccd36652747row6_col0 {\n",
       "            text-align:  left;\n",
       "            text-align:  left;\n",
       "        }    #T_00e29e74_5976_11ed_b6c8_3ccd36652747row6_col1 {\n",
       "            text-align:  left;\n",
       "            text-align:  left;\n",
       "            background-color:  yellow;\n",
       "        }    #T_00e29e74_5976_11ed_b6c8_3ccd36652747row6_col2 {\n",
       "            text-align:  left;\n",
       "            text-align:  left;\n",
       "            background-color:  yellow;\n",
       "        }    #T_00e29e74_5976_11ed_b6c8_3ccd36652747row6_col3 {\n",
       "            text-align:  left;\n",
       "            text-align:  left;\n",
       "            background-color:  yellow;\n",
       "        }    #T_00e29e74_5976_11ed_b6c8_3ccd36652747row6_col4 {\n",
       "            text-align:  left;\n",
       "            text-align:  left;\n",
       "            background-color:  yellow;\n",
       "        }    #T_00e29e74_5976_11ed_b6c8_3ccd36652747row6_col5 {\n",
       "            text-align:  left;\n",
       "            text-align:  left;\n",
       "            background-color:  yellow;\n",
       "        }    #T_00e29e74_5976_11ed_b6c8_3ccd36652747row6_col6 {\n",
       "            text-align:  left;\n",
       "            text-align:  left;\n",
       "            background-color:  yellow;\n",
       "        }    #T_00e29e74_5976_11ed_b6c8_3ccd36652747row6_col7 {\n",
       "            text-align:  left;\n",
       "            text-align:  left;\n",
       "            background-color:  yellow;\n",
       "        }    #T_00e29e74_5976_11ed_b6c8_3ccd36652747row6_col8 {\n",
       "            text-align:  left;\n",
       "            text-align:  left;\n",
       "            : ;\n",
       "            background-color:  lightgrey;\n",
       "        }    #T_00e29e74_5976_11ed_b6c8_3ccd36652747row7_col0 {\n",
       "            text-align:  left;\n",
       "            text-align:  left;\n",
       "        }    #T_00e29e74_5976_11ed_b6c8_3ccd36652747row7_col1 {\n",
       "            text-align:  left;\n",
       "            text-align:  left;\n",
       "            background-color:  yellow;\n",
       "        }    #T_00e29e74_5976_11ed_b6c8_3ccd36652747row7_col2 {\n",
       "            text-align:  left;\n",
       "            text-align:  left;\n",
       "            background-color:  yellow;\n",
       "        }    #T_00e29e74_5976_11ed_b6c8_3ccd36652747row7_col3 {\n",
       "            text-align:  left;\n",
       "            text-align:  left;\n",
       "            background-color:  yellow;\n",
       "        }    #T_00e29e74_5976_11ed_b6c8_3ccd36652747row7_col4 {\n",
       "            text-align:  left;\n",
       "            text-align:  left;\n",
       "            background-color:  yellow;\n",
       "        }    #T_00e29e74_5976_11ed_b6c8_3ccd36652747row7_col5 {\n",
       "            text-align:  left;\n",
       "            text-align:  left;\n",
       "            background-color:  yellow;\n",
       "        }    #T_00e29e74_5976_11ed_b6c8_3ccd36652747row7_col6 {\n",
       "            text-align:  left;\n",
       "            text-align:  left;\n",
       "            background-color:  yellow;\n",
       "        }    #T_00e29e74_5976_11ed_b6c8_3ccd36652747row7_col7 {\n",
       "            text-align:  left;\n",
       "            text-align:  left;\n",
       "            background-color:  yellow;\n",
       "        }    #T_00e29e74_5976_11ed_b6c8_3ccd36652747row7_col8 {\n",
       "            text-align:  left;\n",
       "            text-align:  left;\n",
       "            : ;\n",
       "            background-color:  lightgrey;\n",
       "        }    #T_00e29e74_5976_11ed_b6c8_3ccd36652747row8_col0 {\n",
       "            text-align:  left;\n",
       "            text-align:  left;\n",
       "        }    #T_00e29e74_5976_11ed_b6c8_3ccd36652747row8_col1 {\n",
       "            text-align:  left;\n",
       "            text-align:  left;\n",
       "            background-color:  yellow;\n",
       "        }    #T_00e29e74_5976_11ed_b6c8_3ccd36652747row8_col2 {\n",
       "            text-align:  left;\n",
       "            text-align:  left;\n",
       "            background-color:  yellow;\n",
       "        }    #T_00e29e74_5976_11ed_b6c8_3ccd36652747row8_col3 {\n",
       "            text-align:  left;\n",
       "            text-align:  left;\n",
       "            background-color:  yellow;\n",
       "        }    #T_00e29e74_5976_11ed_b6c8_3ccd36652747row8_col4 {\n",
       "            text-align:  left;\n",
       "            text-align:  left;\n",
       "            background-color:  yellow;\n",
       "        }    #T_00e29e74_5976_11ed_b6c8_3ccd36652747row8_col5 {\n",
       "            text-align:  left;\n",
       "            text-align:  left;\n",
       "            background-color:  yellow;\n",
       "        }    #T_00e29e74_5976_11ed_b6c8_3ccd36652747row8_col6 {\n",
       "            text-align:  left;\n",
       "            text-align:  left;\n",
       "            background-color:  yellow;\n",
       "        }    #T_00e29e74_5976_11ed_b6c8_3ccd36652747row8_col7 {\n",
       "            text-align:  left;\n",
       "            text-align:  left;\n",
       "            background-color:  yellow;\n",
       "        }    #T_00e29e74_5976_11ed_b6c8_3ccd36652747row8_col8 {\n",
       "            text-align:  left;\n",
       "            text-align:  left;\n",
       "            : ;\n",
       "            background-color:  lightgrey;\n",
       "        }    #T_00e29e74_5976_11ed_b6c8_3ccd36652747row9_col0 {\n",
       "            text-align:  left;\n",
       "            text-align:  left;\n",
       "        }    #T_00e29e74_5976_11ed_b6c8_3ccd36652747row9_col1 {\n",
       "            text-align:  left;\n",
       "            text-align:  left;\n",
       "            : ;\n",
       "        }    #T_00e29e74_5976_11ed_b6c8_3ccd36652747row9_col2 {\n",
       "            text-align:  left;\n",
       "            text-align:  left;\n",
       "            : ;\n",
       "        }    #T_00e29e74_5976_11ed_b6c8_3ccd36652747row9_col3 {\n",
       "            text-align:  left;\n",
       "            text-align:  left;\n",
       "            : ;\n",
       "        }    #T_00e29e74_5976_11ed_b6c8_3ccd36652747row9_col4 {\n",
       "            text-align:  left;\n",
       "            text-align:  left;\n",
       "            : ;\n",
       "        }    #T_00e29e74_5976_11ed_b6c8_3ccd36652747row9_col5 {\n",
       "            text-align:  left;\n",
       "            text-align:  left;\n",
       "            : ;\n",
       "        }    #T_00e29e74_5976_11ed_b6c8_3ccd36652747row9_col6 {\n",
       "            text-align:  left;\n",
       "            text-align:  left;\n",
       "            : ;\n",
       "        }    #T_00e29e74_5976_11ed_b6c8_3ccd36652747row9_col7 {\n",
       "            text-align:  left;\n",
       "            text-align:  left;\n",
       "            : ;\n",
       "        }    #T_00e29e74_5976_11ed_b6c8_3ccd36652747row9_col8 {\n",
       "            text-align:  left;\n",
       "            text-align:  left;\n",
       "            : ;\n",
       "            background-color:  lightgrey;\n",
       "        }    #T_00e29e74_5976_11ed_b6c8_3ccd36652747row10_col0 {\n",
       "            text-align:  left;\n",
       "            text-align:  left;\n",
       "        }    #T_00e29e74_5976_11ed_b6c8_3ccd36652747row10_col1 {\n",
       "            text-align:  left;\n",
       "            text-align:  left;\n",
       "            : ;\n",
       "        }    #T_00e29e74_5976_11ed_b6c8_3ccd36652747row10_col2 {\n",
       "            text-align:  left;\n",
       "            text-align:  left;\n",
       "            : ;\n",
       "        }    #T_00e29e74_5976_11ed_b6c8_3ccd36652747row10_col3 {\n",
       "            text-align:  left;\n",
       "            text-align:  left;\n",
       "            : ;\n",
       "        }    #T_00e29e74_5976_11ed_b6c8_3ccd36652747row10_col4 {\n",
       "            text-align:  left;\n",
       "            text-align:  left;\n",
       "            : ;\n",
       "        }    #T_00e29e74_5976_11ed_b6c8_3ccd36652747row10_col5 {\n",
       "            text-align:  left;\n",
       "            text-align:  left;\n",
       "            : ;\n",
       "        }    #T_00e29e74_5976_11ed_b6c8_3ccd36652747row10_col6 {\n",
       "            text-align:  left;\n",
       "            text-align:  left;\n",
       "            : ;\n",
       "        }    #T_00e29e74_5976_11ed_b6c8_3ccd36652747row10_col7 {\n",
       "            text-align:  left;\n",
       "            text-align:  left;\n",
       "            : ;\n",
       "        }    #T_00e29e74_5976_11ed_b6c8_3ccd36652747row10_col8 {\n",
       "            text-align:  left;\n",
       "            text-align:  left;\n",
       "            background-color:  yellow;\n",
       "            background-color:  lightgrey;\n",
       "        }    #T_00e29e74_5976_11ed_b6c8_3ccd36652747row11_col0 {\n",
       "            text-align:  left;\n",
       "            text-align:  left;\n",
       "        }    #T_00e29e74_5976_11ed_b6c8_3ccd36652747row11_col1 {\n",
       "            text-align:  left;\n",
       "            text-align:  left;\n",
       "            : ;\n",
       "        }    #T_00e29e74_5976_11ed_b6c8_3ccd36652747row11_col2 {\n",
       "            text-align:  left;\n",
       "            text-align:  left;\n",
       "            : ;\n",
       "        }    #T_00e29e74_5976_11ed_b6c8_3ccd36652747row11_col3 {\n",
       "            text-align:  left;\n",
       "            text-align:  left;\n",
       "            : ;\n",
       "        }    #T_00e29e74_5976_11ed_b6c8_3ccd36652747row11_col4 {\n",
       "            text-align:  left;\n",
       "            text-align:  left;\n",
       "            : ;\n",
       "        }    #T_00e29e74_5976_11ed_b6c8_3ccd36652747row11_col5 {\n",
       "            text-align:  left;\n",
       "            text-align:  left;\n",
       "            : ;\n",
       "        }    #T_00e29e74_5976_11ed_b6c8_3ccd36652747row11_col6 {\n",
       "            text-align:  left;\n",
       "            text-align:  left;\n",
       "            : ;\n",
       "        }    #T_00e29e74_5976_11ed_b6c8_3ccd36652747row11_col7 {\n",
       "            text-align:  left;\n",
       "            text-align:  left;\n",
       "            : ;\n",
       "        }    #T_00e29e74_5976_11ed_b6c8_3ccd36652747row11_col8 {\n",
       "            text-align:  left;\n",
       "            text-align:  left;\n",
       "            : ;\n",
       "            background-color:  lightgrey;\n",
       "        }</style><table id=\"T_00e29e74_5976_11ed_b6c8_3ccd36652747\" ><thead>    <tr>        <th class=\"blank level0\" ></th>        <th class=\"col_heading level0 col0\" >Model</th>        <th class=\"col_heading level0 col1\" >Accuracy</th>        <th class=\"col_heading level0 col2\" >AUC</th>        <th class=\"col_heading level0 col3\" >Recall</th>        <th class=\"col_heading level0 col4\" >Prec.</th>        <th class=\"col_heading level0 col5\" >F1</th>        <th class=\"col_heading level0 col6\" >Kappa</th>        <th class=\"col_heading level0 col7\" >MCC</th>        <th class=\"col_heading level0 col8\" >TT (Sec)</th>    </tr></thead><tbody>\n",
       "                <tr>\n",
       "                        <th id=\"T_00e29e74_5976_11ed_b6c8_3ccd36652747level0_row0\" class=\"row_heading level0 row0\" >lr</th>\n",
       "                        <td id=\"T_00e29e74_5976_11ed_b6c8_3ccd36652747row0_col0\" class=\"data row0 col0\" >Logistic Regression</td>\n",
       "                        <td id=\"T_00e29e74_5976_11ed_b6c8_3ccd36652747row0_col1\" class=\"data row0 col1\" >1.0000</td>\n",
       "                        <td id=\"T_00e29e74_5976_11ed_b6c8_3ccd36652747row0_col2\" class=\"data row0 col2\" >1.0000</td>\n",
       "                        <td id=\"T_00e29e74_5976_11ed_b6c8_3ccd36652747row0_col3\" class=\"data row0 col3\" >1.0000</td>\n",
       "                        <td id=\"T_00e29e74_5976_11ed_b6c8_3ccd36652747row0_col4\" class=\"data row0 col4\" >1.0000</td>\n",
       "                        <td id=\"T_00e29e74_5976_11ed_b6c8_3ccd36652747row0_col5\" class=\"data row0 col5\" >1.0000</td>\n",
       "                        <td id=\"T_00e29e74_5976_11ed_b6c8_3ccd36652747row0_col6\" class=\"data row0 col6\" >1.0000</td>\n",
       "                        <td id=\"T_00e29e74_5976_11ed_b6c8_3ccd36652747row0_col7\" class=\"data row0 col7\" >1.0000</td>\n",
       "                        <td id=\"T_00e29e74_5976_11ed_b6c8_3ccd36652747row0_col8\" class=\"data row0 col8\" >2.8400</td>\n",
       "            </tr>\n",
       "            <tr>\n",
       "                        <th id=\"T_00e29e74_5976_11ed_b6c8_3ccd36652747level0_row1\" class=\"row_heading level0 row1\" >knn</th>\n",
       "                        <td id=\"T_00e29e74_5976_11ed_b6c8_3ccd36652747row1_col0\" class=\"data row1 col0\" >K Neighbors Classifier</td>\n",
       "                        <td id=\"T_00e29e74_5976_11ed_b6c8_3ccd36652747row1_col1\" class=\"data row1 col1\" >1.0000</td>\n",
       "                        <td id=\"T_00e29e74_5976_11ed_b6c8_3ccd36652747row1_col2\" class=\"data row1 col2\" >1.0000</td>\n",
       "                        <td id=\"T_00e29e74_5976_11ed_b6c8_3ccd36652747row1_col3\" class=\"data row1 col3\" >1.0000</td>\n",
       "                        <td id=\"T_00e29e74_5976_11ed_b6c8_3ccd36652747row1_col4\" class=\"data row1 col4\" >1.0000</td>\n",
       "                        <td id=\"T_00e29e74_5976_11ed_b6c8_3ccd36652747row1_col5\" class=\"data row1 col5\" >1.0000</td>\n",
       "                        <td id=\"T_00e29e74_5976_11ed_b6c8_3ccd36652747row1_col6\" class=\"data row1 col6\" >1.0000</td>\n",
       "                        <td id=\"T_00e29e74_5976_11ed_b6c8_3ccd36652747row1_col7\" class=\"data row1 col7\" >1.0000</td>\n",
       "                        <td id=\"T_00e29e74_5976_11ed_b6c8_3ccd36652747row1_col8\" class=\"data row1 col8\" >23.0530</td>\n",
       "            </tr>\n",
       "            <tr>\n",
       "                        <th id=\"T_00e29e74_5976_11ed_b6c8_3ccd36652747level0_row2\" class=\"row_heading level0 row2\" >nb</th>\n",
       "                        <td id=\"T_00e29e74_5976_11ed_b6c8_3ccd36652747row2_col0\" class=\"data row2 col0\" >Naive Bayes</td>\n",
       "                        <td id=\"T_00e29e74_5976_11ed_b6c8_3ccd36652747row2_col1\" class=\"data row2 col1\" >1.0000</td>\n",
       "                        <td id=\"T_00e29e74_5976_11ed_b6c8_3ccd36652747row2_col2\" class=\"data row2 col2\" >1.0000</td>\n",
       "                        <td id=\"T_00e29e74_5976_11ed_b6c8_3ccd36652747row2_col3\" class=\"data row2 col3\" >1.0000</td>\n",
       "                        <td id=\"T_00e29e74_5976_11ed_b6c8_3ccd36652747row2_col4\" class=\"data row2 col4\" >1.0000</td>\n",
       "                        <td id=\"T_00e29e74_5976_11ed_b6c8_3ccd36652747row2_col5\" class=\"data row2 col5\" >1.0000</td>\n",
       "                        <td id=\"T_00e29e74_5976_11ed_b6c8_3ccd36652747row2_col6\" class=\"data row2 col6\" >1.0000</td>\n",
       "                        <td id=\"T_00e29e74_5976_11ed_b6c8_3ccd36652747row2_col7\" class=\"data row2 col7\" >1.0000</td>\n",
       "                        <td id=\"T_00e29e74_5976_11ed_b6c8_3ccd36652747row2_col8\" class=\"data row2 col8\" >0.9900</td>\n",
       "            </tr>\n",
       "            <tr>\n",
       "                        <th id=\"T_00e29e74_5976_11ed_b6c8_3ccd36652747level0_row3\" class=\"row_heading level0 row3\" >dt</th>\n",
       "                        <td id=\"T_00e29e74_5976_11ed_b6c8_3ccd36652747row3_col0\" class=\"data row3 col0\" >Decision Tree Classifier</td>\n",
       "                        <td id=\"T_00e29e74_5976_11ed_b6c8_3ccd36652747row3_col1\" class=\"data row3 col1\" >1.0000</td>\n",
       "                        <td id=\"T_00e29e74_5976_11ed_b6c8_3ccd36652747row3_col2\" class=\"data row3 col2\" >1.0000</td>\n",
       "                        <td id=\"T_00e29e74_5976_11ed_b6c8_3ccd36652747row3_col3\" class=\"data row3 col3\" >1.0000</td>\n",
       "                        <td id=\"T_00e29e74_5976_11ed_b6c8_3ccd36652747row3_col4\" class=\"data row3 col4\" >1.0000</td>\n",
       "                        <td id=\"T_00e29e74_5976_11ed_b6c8_3ccd36652747row3_col5\" class=\"data row3 col5\" >1.0000</td>\n",
       "                        <td id=\"T_00e29e74_5976_11ed_b6c8_3ccd36652747row3_col6\" class=\"data row3 col6\" >1.0000</td>\n",
       "                        <td id=\"T_00e29e74_5976_11ed_b6c8_3ccd36652747row3_col7\" class=\"data row3 col7\" >1.0000</td>\n",
       "                        <td id=\"T_00e29e74_5976_11ed_b6c8_3ccd36652747row3_col8\" class=\"data row3 col8\" >0.3990</td>\n",
       "            </tr>\n",
       "            <tr>\n",
       "                        <th id=\"T_00e29e74_5976_11ed_b6c8_3ccd36652747level0_row4\" class=\"row_heading level0 row4\" >svm</th>\n",
       "                        <td id=\"T_00e29e74_5976_11ed_b6c8_3ccd36652747row4_col0\" class=\"data row4 col0\" >SVM - Linear Kernel</td>\n",
       "                        <td id=\"T_00e29e74_5976_11ed_b6c8_3ccd36652747row4_col1\" class=\"data row4 col1\" >1.0000</td>\n",
       "                        <td id=\"T_00e29e74_5976_11ed_b6c8_3ccd36652747row4_col2\" class=\"data row4 col2\" >0.0000</td>\n",
       "                        <td id=\"T_00e29e74_5976_11ed_b6c8_3ccd36652747row4_col3\" class=\"data row4 col3\" >1.0000</td>\n",
       "                        <td id=\"T_00e29e74_5976_11ed_b6c8_3ccd36652747row4_col4\" class=\"data row4 col4\" >1.0000</td>\n",
       "                        <td id=\"T_00e29e74_5976_11ed_b6c8_3ccd36652747row4_col5\" class=\"data row4 col5\" >1.0000</td>\n",
       "                        <td id=\"T_00e29e74_5976_11ed_b6c8_3ccd36652747row4_col6\" class=\"data row4 col6\" >1.0000</td>\n",
       "                        <td id=\"T_00e29e74_5976_11ed_b6c8_3ccd36652747row4_col7\" class=\"data row4 col7\" >1.0000</td>\n",
       "                        <td id=\"T_00e29e74_5976_11ed_b6c8_3ccd36652747row4_col8\" class=\"data row4 col8\" >2.4280</td>\n",
       "            </tr>\n",
       "            <tr>\n",
       "                        <th id=\"T_00e29e74_5976_11ed_b6c8_3ccd36652747level0_row5\" class=\"row_heading level0 row5\" >ridge</th>\n",
       "                        <td id=\"T_00e29e74_5976_11ed_b6c8_3ccd36652747row5_col0\" class=\"data row5 col0\" >Ridge Classifier</td>\n",
       "                        <td id=\"T_00e29e74_5976_11ed_b6c8_3ccd36652747row5_col1\" class=\"data row5 col1\" >1.0000</td>\n",
       "                        <td id=\"T_00e29e74_5976_11ed_b6c8_3ccd36652747row5_col2\" class=\"data row5 col2\" >0.0000</td>\n",
       "                        <td id=\"T_00e29e74_5976_11ed_b6c8_3ccd36652747row5_col3\" class=\"data row5 col3\" >1.0000</td>\n",
       "                        <td id=\"T_00e29e74_5976_11ed_b6c8_3ccd36652747row5_col4\" class=\"data row5 col4\" >1.0000</td>\n",
       "                        <td id=\"T_00e29e74_5976_11ed_b6c8_3ccd36652747row5_col5\" class=\"data row5 col5\" >1.0000</td>\n",
       "                        <td id=\"T_00e29e74_5976_11ed_b6c8_3ccd36652747row5_col6\" class=\"data row5 col6\" >1.0000</td>\n",
       "                        <td id=\"T_00e29e74_5976_11ed_b6c8_3ccd36652747row5_col7\" class=\"data row5 col7\" >1.0000</td>\n",
       "                        <td id=\"T_00e29e74_5976_11ed_b6c8_3ccd36652747row5_col8\" class=\"data row5 col8\" >1.4850</td>\n",
       "            </tr>\n",
       "            <tr>\n",
       "                        <th id=\"T_00e29e74_5976_11ed_b6c8_3ccd36652747level0_row6\" class=\"row_heading level0 row6\" >rf</th>\n",
       "                        <td id=\"T_00e29e74_5976_11ed_b6c8_3ccd36652747row6_col0\" class=\"data row6 col0\" >Random Forest Classifier</td>\n",
       "                        <td id=\"T_00e29e74_5976_11ed_b6c8_3ccd36652747row6_col1\" class=\"data row6 col1\" >1.0000</td>\n",
       "                        <td id=\"T_00e29e74_5976_11ed_b6c8_3ccd36652747row6_col2\" class=\"data row6 col2\" >1.0000</td>\n",
       "                        <td id=\"T_00e29e74_5976_11ed_b6c8_3ccd36652747row6_col3\" class=\"data row6 col3\" >1.0000</td>\n",
       "                        <td id=\"T_00e29e74_5976_11ed_b6c8_3ccd36652747row6_col4\" class=\"data row6 col4\" >1.0000</td>\n",
       "                        <td id=\"T_00e29e74_5976_11ed_b6c8_3ccd36652747row6_col5\" class=\"data row6 col5\" >1.0000</td>\n",
       "                        <td id=\"T_00e29e74_5976_11ed_b6c8_3ccd36652747row6_col6\" class=\"data row6 col6\" >1.0000</td>\n",
       "                        <td id=\"T_00e29e74_5976_11ed_b6c8_3ccd36652747row6_col7\" class=\"data row6 col7\" >1.0000</td>\n",
       "                        <td id=\"T_00e29e74_5976_11ed_b6c8_3ccd36652747row6_col8\" class=\"data row6 col8\" >1.4250</td>\n",
       "            </tr>\n",
       "            <tr>\n",
       "                        <th id=\"T_00e29e74_5976_11ed_b6c8_3ccd36652747level0_row7\" class=\"row_heading level0 row7\" >et</th>\n",
       "                        <td id=\"T_00e29e74_5976_11ed_b6c8_3ccd36652747row7_col0\" class=\"data row7 col0\" >Extra Trees Classifier</td>\n",
       "                        <td id=\"T_00e29e74_5976_11ed_b6c8_3ccd36652747row7_col1\" class=\"data row7 col1\" >1.0000</td>\n",
       "                        <td id=\"T_00e29e74_5976_11ed_b6c8_3ccd36652747row7_col2\" class=\"data row7 col2\" >1.0000</td>\n",
       "                        <td id=\"T_00e29e74_5976_11ed_b6c8_3ccd36652747row7_col3\" class=\"data row7 col3\" >1.0000</td>\n",
       "                        <td id=\"T_00e29e74_5976_11ed_b6c8_3ccd36652747row7_col4\" class=\"data row7 col4\" >1.0000</td>\n",
       "                        <td id=\"T_00e29e74_5976_11ed_b6c8_3ccd36652747row7_col5\" class=\"data row7 col5\" >1.0000</td>\n",
       "                        <td id=\"T_00e29e74_5976_11ed_b6c8_3ccd36652747row7_col6\" class=\"data row7 col6\" >1.0000</td>\n",
       "                        <td id=\"T_00e29e74_5976_11ed_b6c8_3ccd36652747row7_col7\" class=\"data row7 col7\" >1.0000</td>\n",
       "                        <td id=\"T_00e29e74_5976_11ed_b6c8_3ccd36652747row7_col8\" class=\"data row7 col8\" >1.8800</td>\n",
       "            </tr>\n",
       "            <tr>\n",
       "                        <th id=\"T_00e29e74_5976_11ed_b6c8_3ccd36652747level0_row8\" class=\"row_heading level0 row8\" >lightgbm</th>\n",
       "                        <td id=\"T_00e29e74_5976_11ed_b6c8_3ccd36652747row8_col0\" class=\"data row8 col0\" >Light Gradient Boosting Machine</td>\n",
       "                        <td id=\"T_00e29e74_5976_11ed_b6c8_3ccd36652747row8_col1\" class=\"data row8 col1\" >1.0000</td>\n",
       "                        <td id=\"T_00e29e74_5976_11ed_b6c8_3ccd36652747row8_col2\" class=\"data row8 col2\" >1.0000</td>\n",
       "                        <td id=\"T_00e29e74_5976_11ed_b6c8_3ccd36652747row8_col3\" class=\"data row8 col3\" >1.0000</td>\n",
       "                        <td id=\"T_00e29e74_5976_11ed_b6c8_3ccd36652747row8_col4\" class=\"data row8 col4\" >1.0000</td>\n",
       "                        <td id=\"T_00e29e74_5976_11ed_b6c8_3ccd36652747row8_col5\" class=\"data row8 col5\" >1.0000</td>\n",
       "                        <td id=\"T_00e29e74_5976_11ed_b6c8_3ccd36652747row8_col6\" class=\"data row8 col6\" >1.0000</td>\n",
       "                        <td id=\"T_00e29e74_5976_11ed_b6c8_3ccd36652747row8_col7\" class=\"data row8 col7\" >1.0000</td>\n",
       "                        <td id=\"T_00e29e74_5976_11ed_b6c8_3ccd36652747row8_col8\" class=\"data row8 col8\" >1.1080</td>\n",
       "            </tr>\n",
       "            <tr>\n",
       "                        <th id=\"T_00e29e74_5976_11ed_b6c8_3ccd36652747level0_row9\" class=\"row_heading level0 row9\" >ada</th>\n",
       "                        <td id=\"T_00e29e74_5976_11ed_b6c8_3ccd36652747row9_col0\" class=\"data row9 col0\" >Ada Boost Classifier</td>\n",
       "                        <td id=\"T_00e29e74_5976_11ed_b6c8_3ccd36652747row9_col1\" class=\"data row9 col1\" >0.2885</td>\n",
       "                        <td id=\"T_00e29e74_5976_11ed_b6c8_3ccd36652747row9_col2\" class=\"data row9 col2\" >0.7110</td>\n",
       "                        <td id=\"T_00e29e74_5976_11ed_b6c8_3ccd36652747row9_col3\" class=\"data row9 col3\" >0.2850</td>\n",
       "                        <td id=\"T_00e29e74_5976_11ed_b6c8_3ccd36652747row9_col4\" class=\"data row9 col4\" >0.2383</td>\n",
       "                        <td id=\"T_00e29e74_5976_11ed_b6c8_3ccd36652747row9_col5\" class=\"data row9 col5\" >0.2416</td>\n",
       "                        <td id=\"T_00e29e74_5976_11ed_b6c8_3ccd36652747row9_col6\" class=\"data row9 col6\" >0.2486</td>\n",
       "                        <td id=\"T_00e29e74_5976_11ed_b6c8_3ccd36652747row9_col7\" class=\"data row9 col7\" >0.3801</td>\n",
       "                        <td id=\"T_00e29e74_5976_11ed_b6c8_3ccd36652747row9_col8\" class=\"data row9 col8\" >1.8070</td>\n",
       "            </tr>\n",
       "            <tr>\n",
       "                        <th id=\"T_00e29e74_5976_11ed_b6c8_3ccd36652747level0_row10\" class=\"row_heading level0 row10\" >dummy</th>\n",
       "                        <td id=\"T_00e29e74_5976_11ed_b6c8_3ccd36652747row10_col0\" class=\"data row10 col0\" >Dummy Classifier</td>\n",
       "                        <td id=\"T_00e29e74_5976_11ed_b6c8_3ccd36652747row10_col1\" class=\"data row10 col1\" >0.0548</td>\n",
       "                        <td id=\"T_00e29e74_5976_11ed_b6c8_3ccd36652747row10_col2\" class=\"data row10 col2\" >0.5000</td>\n",
       "                        <td id=\"T_00e29e74_5976_11ed_b6c8_3ccd36652747row10_col3\" class=\"data row10 col3\" >0.0500</td>\n",
       "                        <td id=\"T_00e29e74_5976_11ed_b6c8_3ccd36652747row10_col4\" class=\"data row10 col4\" >0.0030</td>\n",
       "                        <td id=\"T_00e29e74_5976_11ed_b6c8_3ccd36652747row10_col5\" class=\"data row10 col5\" >0.0057</td>\n",
       "                        <td id=\"T_00e29e74_5976_11ed_b6c8_3ccd36652747row10_col6\" class=\"data row10 col6\" >0.0000</td>\n",
       "                        <td id=\"T_00e29e74_5976_11ed_b6c8_3ccd36652747row10_col7\" class=\"data row10 col7\" >0.0000</td>\n",
       "                        <td id=\"T_00e29e74_5976_11ed_b6c8_3ccd36652747row10_col8\" class=\"data row10 col8\" >0.2870</td>\n",
       "            </tr>\n",
       "            <tr>\n",
       "                        <th id=\"T_00e29e74_5976_11ed_b6c8_3ccd36652747level0_row11\" class=\"row_heading level0 row11\" >qda</th>\n",
       "                        <td id=\"T_00e29e74_5976_11ed_b6c8_3ccd36652747row11_col0\" class=\"data row11 col0\" >Quadratic Discriminant Analysis</td>\n",
       "                        <td id=\"T_00e29e74_5976_11ed_b6c8_3ccd36652747row11_col1\" class=\"data row11 col1\" >0.0530</td>\n",
       "                        <td id=\"T_00e29e74_5976_11ed_b6c8_3ccd36652747row11_col2\" class=\"data row11 col2\" >0.5001</td>\n",
       "                        <td id=\"T_00e29e74_5976_11ed_b6c8_3ccd36652747row11_col3\" class=\"data row11 col3\" >0.0502</td>\n",
       "                        <td id=\"T_00e29e74_5976_11ed_b6c8_3ccd36652747row11_col4\" class=\"data row11 col4\" >0.0129</td>\n",
       "                        <td id=\"T_00e29e74_5976_11ed_b6c8_3ccd36652747row11_col5\" class=\"data row11 col5\" >0.0058</td>\n",
       "                        <td id=\"T_00e29e74_5976_11ed_b6c8_3ccd36652747row11_col6\" class=\"data row11 col6\" >0.0003</td>\n",
       "                        <td id=\"T_00e29e74_5976_11ed_b6c8_3ccd36652747row11_col7\" class=\"data row11 col7\" >0.0052</td>\n",
       "                        <td id=\"T_00e29e74_5976_11ed_b6c8_3ccd36652747row11_col8\" class=\"data row11 col8\" >4.6060</td>\n",
       "            </tr>\n",
       "    </tbody></table>"
      ],
      "text/plain": [
       "<pandas.io.formats.style.Styler at 0x7fbb3101cbb0>"
      ]
     },
     "metadata": {},
     "output_type": "display_data"
    },
    {
     "name": "stdout",
     "output_type": "stream",
     "text": [
      "LogisticRegression(C=1.0, class_weight=None, dual=False, fit_intercept=True,\n",
      "                   intercept_scaling=1, l1_ratio=None, max_iter=1000,\n",
      "                   multi_class='auto', n_jobs=None, penalty='l2',\n",
      "                   random_state=1409, solver='lbfgs', tol=0.0001, verbose=0,\n",
      "                   warm_start=False)\n"
     ]
    }
   ],
   "source": [
    "news_groups = get_data('data/20-newsgroups') \n",
    "best = compare_models()\n",
    "print(best)"
   ]
  },
  {
   "cell_type": "markdown",
   "metadata": {},
   "source": [
    "## Abandoning PyXaret and continuing with the original directions "
   ]
  },
  {
   "cell_type": "code",
   "execution_count": 42,
   "metadata": {},
   "outputs": [],
   "source": [
    "# 1. Initalize an empty model. \n",
    "model = MultinomialNB(alpha=.05)"
   ]
  },
  {
   "cell_type": "code",
   "execution_count": 43,
   "metadata": {},
   "outputs": [
    {
     "data": {
      "text/plain": [
       "MultinomialNB(alpha=0.05, class_prior=None, fit_prior=True)"
      ]
     },
     "execution_count": 43,
     "metadata": {},
     "output_type": "execute_result"
    }
   ],
   "source": [
    "# Fit our model with our training data.\n",
    "model.fit(X_train, y_train)"
   ]
  },
  {
   "cell_type": "markdown",
   "metadata": {},
   "source": [
    "# Evaluate the model.\n",
    "\n",
    "1. Make new predicitions using our test data. \n",
    "2. Print the accuracy of the model. \n",
    "3. Print the confusion matrix of our predictions. \n",
    "4. Using `classification_report` print the evaluation results for all the classes. \n",
    "\n"
   ]
  },
  {
   "cell_type": "code",
   "execution_count": 44,
   "metadata": {},
   "outputs": [],
   "source": [
    "# 1. Make new predictions of our testing data.  \n",
    "y_pred = model.predict(X_test)\n",
    "# Make predicted probabilites of our testing data\n",
    "y_pred_proba = model.predict_proba(X_test)"
   ]
  },
  {
   "cell_type": "code",
   "execution_count": 45,
   "metadata": {},
   "outputs": [
    {
     "name": "stdout",
     "output_type": "stream",
     "text": [
      "Model Accuracy: 0.914715\n"
     ]
    }
   ],
   "source": [
    "# 2. Print the accuracy of the model. \n",
    "accuracy = model.score(X_test, y_test)\n",
    "\n",
    "print(\"Model Accuracy: %f\" % accuracy)"
   ]
  },
  {
   "cell_type": "code",
   "execution_count": 46,
   "metadata": {},
   "outputs": [
    {
     "data": {
      "text/plain": [
       "<sklearn.metrics._plot.confusion_matrix.ConfusionMatrixDisplay at 0x7fbb006790a0>"
      ]
     },
     "execution_count": 46,
     "metadata": {},
     "output_type": "execute_result"
    },
    {
     "data": {
      "image/png": "[encoded data removed]",
      "text/plain": [
       "<Figure size 792x792 with 2 Axes>"
      ]
     },
     "metadata": {},
     "output_type": "display_data"
    }
   ],
   "source": [
    "# 3. Plot the confusion matrix of our predictions\n",
    "\n",
    "fig, ax = plt.subplots(figsize=(11, 11))\n",
    "\n",
    "disp = plot_confusion_matrix(model, X_test, y_test,\n",
    "                             display_labels=model.classes_,\n",
    "                             cmap=plt.cm.Blues, ax=ax)\n",
    "plt.xticks(rotation=90)\n",
    "disp"
   ]
  },
  {
   "cell_type": "code",
   "execution_count": 47,
   "metadata": {},
   "outputs": [
    {
     "name": "stdout",
     "output_type": "stream",
     "text": [
      "                          precision    recall  f1-score   support\n",
      "\n",
      "             alt.atheism       0.93      0.94      0.93        97\n",
      "           comp.graphics       0.83      0.85      0.84       104\n",
      " comp.os.ms-windows.misc       0.91      0.82      0.86       115\n",
      "comp.sys.ibm.pc.hardware       0.73      0.86      0.79       123\n",
      "   comp.sys.mac.hardware       0.94      0.90      0.92       126\n",
      "          comp.windows.x       0.88      0.92      0.90       106\n",
      "            misc.forsale       0.90      0.76      0.83       109\n",
      "               rec.autos       0.94      0.94      0.94       139\n",
      "         rec.motorcycles       0.95      0.97      0.96       122\n",
      "      rec.sport.baseball       0.99      0.97      0.98       102\n",
      "        rec.sport.hockey       0.96      0.98      0.97       108\n",
      "               sci.crypt       0.96      0.97      0.96       125\n",
      "         sci.electronics       0.87      0.89      0.88       114\n",
      "                 sci.med       0.97      0.97      0.97       119\n",
      "               sci.space       1.00      0.99      1.00       127\n",
      "  soc.religion.christian       0.80      0.95      0.87       122\n",
      "      talk.politics.guns       0.94      0.98      0.96       121\n",
      "   talk.politics.mideast       0.95      0.98      0.97       102\n",
      "      talk.politics.misc       0.95      0.96      0.96       107\n",
      "      talk.religion.misc       1.00      0.55      0.71        75\n",
      "\n",
      "                accuracy                           0.91      2263\n",
      "               macro avg       0.92      0.91      0.91      2263\n",
      "            weighted avg       0.92      0.91      0.91      2263\n",
      "\n"
     ]
    }
   ],
   "source": [
    "# 4. Using `classification_report` print the evaluation results for all the classes. \n",
    "\n",
    "print(classification_report(y_test, y_pred, target_names=model.classes_))"
   ]
  },
  {
   "cell_type": "markdown",
   "metadata": {},
   "source": [
    "# Manual predicition\n",
    "Write a new sentence that you think will be classified as talk.politics.guns. \n",
    "1. Apply the text pipeline to your sentence\n",
    "2. Transform your cleaned text using the `X = vectorizer.transform([your_text])`\n",
    "    * Note, the `transform` function accepts a list and not a individual string.\n",
    "3. Use the model to predict your new `X`. \n",
    "4. Print the prediction"
   ]
  },
  {
   "cell_type": "code",
   "execution_count": 48,
   "metadata": {},
   "outputs": [
    {
     "name": "stdout",
     "output_type": "stream",
     "text": [
      "think gun great danger\n",
      "['talk.politics.guns']\n"
     ]
    }
   ],
   "source": [
    "my_sentence = \"I think guns are great and not dangerous\"\n",
    "\n",
    "# 1. Apply the text pipeline to your sentence\n",
    "my_new_sentence = text_processing_pipeline(my_sentence)\n",
    "print(my_new_sentence)\n",
    "\n",
    "# 2. Transform your cleaned text using the `X = vectorizer.transform([your_text])`\\\n",
    "new_X_vectorized = vectorizer.transform([my_new_sentence])\n",
    "\n",
    "# 3. Use the model to predict your new `X`. \n",
    "new_y_pred = model.predict(new_X_vectorized)\n",
    "\n",
    "# 4. Print the prediction\n",
    "print(new_y_pred)"
   ]
  },
  {
   "cell_type": "markdown",
   "metadata": {},
   "source": [
    "___\n",
    "# PART 2: Twitter Data\n",
    "This part of the exercise is un-guided on purpose.  \n",
    "\n",
    "Using the `dem-vs-rep-tweets.csv` build a classifier to determine if a tweet was written by a democrat or republican. \n",
    "\n",
    "Can you get an f1-score higher than %82"
   ]
  },
  {
   "cell_type": "code",
   "execution_count": 54,
   "metadata": {},
   "outputs": [
    {
     "name": "stdout",
     "output_type": "stream",
     "text": [
      "(86460, 3)\n"
     ]
    }
   ],
   "source": [
    "# 1. Load the 20-newsgroups.csv data into a dataframe.\n",
    "# 2. Print the shape\n",
    "df = pd.read_csv('data/dem-vs-rep-tweets.csv')\n",
    "print(df.shape)\n",
    "\n"
   ]
  },
  {
   "cell_type": "code",
   "execution_count": 55,
   "metadata": {},
   "outputs": [
    {
     "data": {
      "text/html": [
       "<div>\n",
       "<style scoped>\n",
       "    .dataframe tbody tr th:only-of-type {\n",
       "        vertical-align: middle;\n",
       "    }\n",
       "\n",
       "    .dataframe tbody tr th {\n",
       "        vertical-align: top;\n",
       "    }\n",
       "\n",
       "    .dataframe thead th {\n",
       "        text-align: right;\n",
       "    }\n",
       "</style>\n",
       "<table border=\"1\" class=\"dataframe\">\n",
       "  <thead>\n",
       "    <tr style=\"text-align: right;\">\n",
       "      <th></th>\n",
       "      <th>Party</th>\n",
       "      <th>Handle</th>\n",
       "      <th>Tweet</th>\n",
       "    </tr>\n",
       "  </thead>\n",
       "  <tbody>\n",
       "    <tr>\n",
       "      <th>0</th>\n",
       "      <td>Democrat</td>\n",
       "      <td>RepDarrenSoto</td>\n",
       "      <td>Today, Senate Dems vote to #SaveTheInternet. P...</td>\n",
       "    </tr>\n",
       "    <tr>\n",
       "      <th>1</th>\n",
       "      <td>Democrat</td>\n",
       "      <td>RepDarrenSoto</td>\n",
       "      <td>RT @WinterHavenSun: Winter Haven resident / Al...</td>\n",
       "    </tr>\n",
       "    <tr>\n",
       "      <th>2</th>\n",
       "      <td>Democrat</td>\n",
       "      <td>RepDarrenSoto</td>\n",
       "      <td>RT @NBCLatino: .@RepDarrenSoto noted that Hurr...</td>\n",
       "    </tr>\n",
       "    <tr>\n",
       "      <th>3</th>\n",
       "      <td>Democrat</td>\n",
       "      <td>RepDarrenSoto</td>\n",
       "      <td>RT @NALCABPolicy: Meeting with @RepDarrenSoto ...</td>\n",
       "    </tr>\n",
       "    <tr>\n",
       "      <th>4</th>\n",
       "      <td>Democrat</td>\n",
       "      <td>RepDarrenSoto</td>\n",
       "      <td>RT @Vegalteno: Hurricane season starts on June...</td>\n",
       "    </tr>\n",
       "  </tbody>\n",
       "</table>\n",
       "</div>"
      ],
      "text/plain": [
       "      Party         Handle                                              Tweet\n",
       "0  Democrat  RepDarrenSoto  Today, Senate Dems vote to #SaveTheInternet. P...\n",
       "1  Democrat  RepDarrenSoto  RT @WinterHavenSun: Winter Haven resident / Al...\n",
       "2  Democrat  RepDarrenSoto  RT @NBCLatino: .@RepDarrenSoto noted that Hurr...\n",
       "3  Democrat  RepDarrenSoto  RT @NALCABPolicy: Meeting with @RepDarrenSoto ...\n",
       "4  Democrat  RepDarrenSoto  RT @Vegalteno: Hurricane season starts on June..."
      ]
     },
     "execution_count": 55,
     "metadata": {},
     "output_type": "execute_result"
    }
   ],
   "source": [
    "df.head()"
   ]
  },
  {
   "cell_type": "code",
   "execution_count": 58,
   "metadata": {},
   "outputs": [
    {
     "data": {
      "text/plain": [
       "0"
      ]
     },
     "execution_count": 58,
     "metadata": {},
     "output_type": "execute_result"
    }
   ],
   "source": [
    "df.isnull().sum().sum()"
   ]
  },
  {
   "cell_type": "code",
   "execution_count": 59,
   "metadata": {},
   "outputs": [
    {
     "data": {
      "text/plain": [
       "57"
      ]
     },
     "execution_count": 59,
     "metadata": {},
     "output_type": "execute_result"
    }
   ],
   "source": [
    "df.duplicated().sum()"
   ]
  },
  {
   "cell_type": "code",
   "execution_count": 60,
   "metadata": {},
   "outputs": [
    {
     "data": {
      "text/plain": [
       "0"
      ]
     },
     "execution_count": 60,
     "metadata": {},
     "output_type": "execute_result"
    }
   ],
   "source": [
    "df.drop_duplicates(inplace=True)\n",
    "df.duplicated().sum()"
   ]
  },
  {
   "cell_type": "code",
   "execution_count": 64,
   "metadata": {},
   "outputs": [
    {
     "data": {
      "text/html": [
       "<div>\n",
       "<style scoped>\n",
       "    .dataframe tbody tr th:only-of-type {\n",
       "        vertical-align: middle;\n",
       "    }\n",
       "\n",
       "    .dataframe tbody tr th {\n",
       "        vertical-align: top;\n",
       "    }\n",
       "\n",
       "    .dataframe thead th {\n",
       "        text-align: right;\n",
       "    }\n",
       "</style>\n",
       "<table border=\"1\" class=\"dataframe\">\n",
       "  <thead>\n",
       "    <tr style=\"text-align: right;\">\n",
       "      <th></th>\n",
       "      <th>party</th>\n",
       "      <th>handle</th>\n",
       "      <th>tweet</th>\n",
       "    </tr>\n",
       "  </thead>\n",
       "  <tbody>\n",
       "    <tr>\n",
       "      <th>0</th>\n",
       "      <td>Democrat</td>\n",
       "      <td>RepDarrenSoto</td>\n",
       "      <td>Today, Senate Dems vote to #SaveTheInternet. P...</td>\n",
       "    </tr>\n",
       "    <tr>\n",
       "      <th>1</th>\n",
       "      <td>Democrat</td>\n",
       "      <td>RepDarrenSoto</td>\n",
       "      <td>RT @WinterHavenSun: Winter Haven resident / Al...</td>\n",
       "    </tr>\n",
       "    <tr>\n",
       "      <th>2</th>\n",
       "      <td>Democrat</td>\n",
       "      <td>RepDarrenSoto</td>\n",
       "      <td>RT @NBCLatino: .@RepDarrenSoto noted that Hurr...</td>\n",
       "    </tr>\n",
       "    <tr>\n",
       "      <th>3</th>\n",
       "      <td>Democrat</td>\n",
       "      <td>RepDarrenSoto</td>\n",
       "      <td>RT @NALCABPolicy: Meeting with @RepDarrenSoto ...</td>\n",
       "    </tr>\n",
       "    <tr>\n",
       "      <th>4</th>\n",
       "      <td>Democrat</td>\n",
       "      <td>RepDarrenSoto</td>\n",
       "      <td>RT @Vegalteno: Hurricane season starts on June...</td>\n",
       "    </tr>\n",
       "  </tbody>\n",
       "</table>\n",
       "</div>"
      ],
      "text/plain": [
       "      party         handle                                              tweet\n",
       "0  Democrat  RepDarrenSoto  Today, Senate Dems vote to #SaveTheInternet. P...\n",
       "1  Democrat  RepDarrenSoto  RT @WinterHavenSun: Winter Haven resident / Al...\n",
       "2  Democrat  RepDarrenSoto  RT @NBCLatino: .@RepDarrenSoto noted that Hurr...\n",
       "3  Democrat  RepDarrenSoto  RT @NALCABPolicy: Meeting with @RepDarrenSoto ...\n",
       "4  Democrat  RepDarrenSoto  RT @Vegalteno: Hurricane season starts on June..."
      ]
     },
     "execution_count": 64,
     "metadata": {},
     "output_type": "execute_result"
    }
   ],
   "source": [
    "df= df.rename(columns=str.lower)\n",
    "df.head()"
   ]
  },
  {
   "cell_type": "code",
   "execution_count": 66,
   "metadata": {},
   "outputs": [
    {
     "data": {
      "text/plain": [
       "Republican    44362\n",
       "Democrat      42041\n",
       "Name: party, dtype: int64"
      ]
     },
     "execution_count": 66,
     "metadata": {},
     "output_type": "execute_result"
    }
   ],
   "source": [
    "df.party.value_counts()"
   ]
  },
  {
   "cell_type": "code",
   "execution_count": 67,
   "metadata": {},
   "outputs": [
    {
     "name": "stdout",
     "output_type": "stream",
     "text": [
      "ORIGINAL TEXT: Today, Senate Dems vote to #SaveTheInternet. Proud to support similar #NetNeutrality legislation here in the House… https://t.co/n3tggDLU1L\n",
      "CLEANDED TEXT: today senat dem vote savetheinternet proud support similar netneutr legisl hous httpstcon3tggdlu1l\n"
     ]
    }
   ],
   "source": [
    "df['tweet_clean'] = df['tweet'].apply(text_processing_pipeline)\n",
    "\n",
    "print(\"ORIGINAL TEXT:\", df['tweet'][0])\n",
    "print(\"CLEANDED TEXT:\", df['tweet_clean'][0])"
   ]
  },
  {
   "cell_type": "code",
   "execution_count": 68,
   "metadata": {},
   "outputs": [],
   "source": [
    "X = df['tweet_clean'].values\n",
    "\n",
    "y = df['party'].values"
   ]
  },
  {
   "cell_type": "code",
   "execution_count": 69,
   "metadata": {},
   "outputs": [],
   "source": [
    "# Split our data into testing and training like always. \n",
    "X_train, X_test, y_train, y_test = train_test_split(\n",
    "    X, y, test_size=0.2, random_state=42)\n",
    "\n",
    "\n",
    "# Save the raw text for later just incase\n",
    "X_train_text = X_train\n",
    "X_test_text = X_test"
   ]
  },
  {
   "cell_type": "code",
   "execution_count": 70,
   "metadata": {},
   "outputs": [
    {
     "name": "stdout",
     "output_type": "stream",
     "text": [
      "(69122, 101702) <class 'numpy.ndarray'>\n"
     ]
    }
   ],
   "source": [
    "# 2. Initialize a vectorizer (you can use TFIDF or BOW, it is your choice).\n",
    "\n",
    "#from sklearn.feature_extraction.text import TfidfVectorizer\n",
    "\n",
    "# Initialize our vectorizer\n",
    "vectorizer = TfidfVectorizer()\n",
    "\n",
    "# 3. Fit your vectorizer using your X data\n",
    "# This makes your vocab matrix\n",
    "vectorizer.fit(X_train)\n",
    "\n",
    "# 4. Transform your X data using your fitted vectorizer. \n",
    "# This transforms your documents into vectors.\n",
    "X_train = vectorizer.transform(X_train)\n",
    "X_test = vectorizer.transform(X_test)\n",
    "\n",
    "# 5. Print the shape of your X.  How many features (aka columns) do you have? -> 105630 columns! \n",
    "print(X_train.shape, type(X))"
   ]
  },
  {
   "cell_type": "code",
   "execution_count": 71,
   "metadata": {},
   "outputs": [
    {
     "name": "stdout",
     "output_type": "stream",
     "text": [
      "101702 101702\n"
     ]
    },
    {
     "data": {
      "text/html": [
       "<div>\n",
       "<style scoped>\n",
       "    .dataframe tbody tr th:only-of-type {\n",
       "        vertical-align: middle;\n",
       "    }\n",
       "\n",
       "    .dataframe tbody tr th {\n",
       "        vertical-align: top;\n",
       "    }\n",
       "\n",
       "    .dataframe thead th {\n",
       "        text-align: right;\n",
       "    }\n",
       "</style>\n",
       "<table border=\"1\" class=\"dataframe\">\n",
       "  <thead>\n",
       "    <tr style=\"text-align: right;\">\n",
       "      <th></th>\n",
       "      <th>feature</th>\n",
       "      <th>idf</th>\n",
       "    </tr>\n",
       "  </thead>\n",
       "  <tbody>\n",
       "    <tr>\n",
       "      <th>50851</th>\n",
       "      <td>httpstcomjulusrbwu</td>\n",
       "      <td>11.450496</td>\n",
       "    </tr>\n",
       "    <tr>\n",
       "      <th>54390</th>\n",
       "      <td>httpstcoolqacj0dt2</td>\n",
       "      <td>11.450496</td>\n",
       "    </tr>\n",
       "    <tr>\n",
       "      <th>54397</th>\n",
       "      <td>httpstcooltr8qvnz8</td>\n",
       "      <td>11.450496</td>\n",
       "    </tr>\n",
       "    <tr>\n",
       "      <th>54396</th>\n",
       "      <td>httpstcooltmasoma4</td>\n",
       "      <td>11.450496</td>\n",
       "    </tr>\n",
       "    <tr>\n",
       "      <th>54395</th>\n",
       "      <td>httpstcoolthxcfpo3</td>\n",
       "      <td>11.450496</td>\n",
       "    </tr>\n",
       "    <tr>\n",
       "      <th>...</th>\n",
       "      <td>...</td>\n",
       "      <td>...</td>\n",
       "    </tr>\n",
       "    <tr>\n",
       "      <th>100882</th>\n",
       "      <td>work</td>\n",
       "      <td>3.973740</td>\n",
       "    </tr>\n",
       "    <tr>\n",
       "      <th>95916</th>\n",
       "      <td>thank</td>\n",
       "      <td>3.581094</td>\n",
       "    </tr>\n",
       "    <tr>\n",
       "      <th>4622</th>\n",
       "      <td>amp</td>\n",
       "      <td>3.348818</td>\n",
       "    </tr>\n",
       "    <tr>\n",
       "      <th>96634</th>\n",
       "      <td>today</td>\n",
       "      <td>3.311055</td>\n",
       "    </tr>\n",
       "    <tr>\n",
       "      <th>90834</th>\n",
       "      <td>rt</td>\n",
       "      <td>2.518944</td>\n",
       "    </tr>\n",
       "  </tbody>\n",
       "</table>\n",
       "<p>101702 rows × 2 columns</p>\n",
       "</div>"
      ],
      "text/plain": [
       "                   feature        idf\n",
       "50851   httpstcomjulusrbwu  11.450496\n",
       "54390   httpstcoolqacj0dt2  11.450496\n",
       "54397   httpstcooltr8qvnz8  11.450496\n",
       "54396   httpstcooltmasoma4  11.450496\n",
       "54395   httpstcoolthxcfpo3  11.450496\n",
       "...                    ...        ...\n",
       "100882                work   3.973740\n",
       "95916                thank   3.581094\n",
       "4622                   amp   3.348818\n",
       "96634                today   3.311055\n",
       "90834                   rt   2.518944\n",
       "\n",
       "[101702 rows x 2 columns]"
      ]
     },
     "execution_count": 71,
     "metadata": {},
     "output_type": "execute_result"
    }
   ],
   "source": [
    "features = vectorizer.get_feature_names()\n",
    "weights = vectorizer.idf_\n",
    "\n",
    "print(len(features), len(weights))\n",
    "\n",
    "df_idf = pd.DataFrame.from_dict( {'feature': features, 'idf': weights})\n",
    "\n",
    "df_idf = df_idf.sort_values(by='idf', ascending=False)\n",
    "\n",
    "df_idf"
   ]
  },
  {
   "cell_type": "code",
   "execution_count": 72,
   "metadata": {},
   "outputs": [],
   "source": [
    "twitter_model = MultinomialNB(alpha=.05)\n"
   ]
  },
  {
   "cell_type": "code",
   "execution_count": 73,
   "metadata": {},
   "outputs": [
    {
     "data": {
      "text/plain": [
       "MultinomialNB(alpha=0.05, class_prior=None, fit_prior=True)"
      ]
     },
     "execution_count": 73,
     "metadata": {},
     "output_type": "execute_result"
    }
   ],
   "source": [
    "twitter_model.fit(X_train, y_train)"
   ]
  },
  {
   "cell_type": "code",
   "execution_count": 74,
   "metadata": {},
   "outputs": [
    {
     "data": {
      "text/plain": [
       "array(['Democrat', 'Democrat', 'Democrat', ..., 'Democrat', 'Democrat',\n",
       "       'Democrat'], dtype='<U10')"
      ]
     },
     "execution_count": 74,
     "metadata": {},
     "output_type": "execute_result"
    }
   ],
   "source": [
    "y_pred = twitter_model.predict(X_test)\n",
    "y_pred"
   ]
  },
  {
   "cell_type": "code",
   "execution_count": 76,
   "metadata": {},
   "outputs": [
    {
     "name": "stdout",
     "output_type": "stream",
     "text": [
      "Model Accuracy: 0.815694\n"
     ]
    }
   ],
   "source": [
    "accuracy = twitter_model.score(X_test, y_test)\n",
    "\n",
    "print(\"Model Accuracy: %f\" % accuracy)"
   ]
  },
  {
   "cell_type": "code",
   "execution_count": 82,
   "metadata": {},
   "outputs": [
    {
     "data": {
      "text/plain": [
       "<sklearn.metrics._plot.confusion_matrix.ConfusionMatrixDisplay at 0x7fb88bc536d0>"
      ]
     },
     "execution_count": 82,
     "metadata": {},
     "output_type": "execute_result"
    },
    {
     "data": {
      "image/png": "[encoded data removed]",
      "text/plain": [
       "<Figure size 792x792 with 2 Axes>"
      ]
     },
     "metadata": {},
     "output_type": "display_data"
    }
   ],
   "source": [
    "fig, ax = plt.subplots(figsize=(11, 11))\n",
    "\n",
    "disp = plot_confusion_matrix(twitter_model, X_test, y_test,\n",
    "                             display_labels=twitter_model.classes_,\n",
    "                             cmap=plt.cm.Blues, ax=ax)\n",
    "plt.xticks(rotation=90)\n",
    "disp"
   ]
  },
  {
   "cell_type": "code",
   "execution_count": 83,
   "metadata": {},
   "outputs": [
    {
     "name": "stdout",
     "output_type": "stream",
     "text": [
      "              precision    recall  f1-score   support\n",
      "\n",
      "    Democrat       0.82      0.79      0.81      8407\n",
      "  Republican       0.81      0.84      0.82      8874\n",
      "\n",
      "    accuracy                           0.82     17281\n",
      "   macro avg       0.82      0.82      0.82     17281\n",
      "weighted avg       0.82      0.82      0.82     17281\n",
      "\n"
     ]
    }
   ],
   "source": [
    "print(classification_report(y_test, y_pred, target_names=twitter_model.classes_))"
   ]
  },
  {
   "cell_type": "code",
   "execution_count": 84,
   "metadata": {},
   "outputs": [
    {
     "name": "stdout",
     "output_type": "stream",
     "text": [
      "think dem win elect\n",
      "['Democrat']\n"
     ]
    }
   ],
   "source": [
    "#Testing on new tweet:\n",
    "\n",
    "my_sentence = \"I think the dems will win the election\"\n",
    "\n",
    "# 1. Apply the text pipeline to your sentence\n",
    "my_new_sentence = text_processing_pipeline(my_sentence)\n",
    "print(my_new_sentence)\n",
    "\n",
    "# 2. Transform your cleaned text using the `X = vectorizer.transform([your_text])`\\\n",
    "new_X_vectorized = vectorizer.transform([my_new_sentence])\n",
    "\n",
    "# 3. Use the model to predict your new `X`. \n",
    "new_y_pred = twitter_model.predict(new_X_vectorized)\n",
    "\n",
    "# 4. Print the prediction\n",
    "print(new_y_pred)"
   ]
  },
  {
   "cell_type": "code",
   "execution_count": null,
   "metadata": {},
   "outputs": [],
   "source": []
  }
 ],
 "metadata": {
  "kernelspec": {
   "display_name": "Python 3",
   "language": "python",
   "name": "python3"
  },
  "language_info": {
   "codemirror_mode": {
    "name": "ipython",
    "version": 3
   },
   "file_extension": ".py",
   "mimetype": "text/x-python",
   "name": "python",
   "nbconvert_exporter": "python",
   "pygments_lexer": "ipython3",
   "version": "3.8.3"
  }
 },
 "nbformat": 4,
 "nbformat_minor": 2
}
